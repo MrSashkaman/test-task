{
 "cells": [
  {
   "cell_type": "code",
   "execution_count": 1,
   "id": "92146a3e-b2be-4095-9c2a-595c5ad8e5c8",
   "metadata": {},
   "outputs": [],
   "source": [
    "import pandas as pd\n",
    "import numpy as np\n",
    "import matplotlib.pyplot as plt\n",
    "import seaborn as sns\n",
    "from scipy import stats"
   ]
  },
  {
   "cell_type": "code",
   "execution_count": 2,
   "id": "1532f43f-8e8b-4acd-a63a-4c63d1952326",
   "metadata": {},
   "outputs": [],
   "source": [
    "%matplotlib inline"
   ]
  },
  {
   "cell_type": "code",
   "execution_count": 3,
   "id": "3cf1ba69-18f9-4de4-93f8-763109501980",
   "metadata": {},
   "outputs": [
    {
     "data": {
      "text/plain": [
       "(23116, 25)"
      ]
     },
     "execution_count": 3,
     "metadata": {},
     "output_type": "execute_result"
    }
   ],
   "source": [
    "data=pd.read_csv('train.csv')\n",
    "data.shape"
   ]
  },
  {
   "cell_type": "code",
   "execution_count": 4,
   "id": "61cf6539-630b-4295-9701-036f84647ebf",
   "metadata": {},
   "outputs": [
    {
     "data": {
      "text/html": [
       "<div>\n",
       "<style scoped>\n",
       "    .dataframe tbody tr th:only-of-type {\n",
       "        vertical-align: middle;\n",
       "    }\n",
       "\n",
       "    .dataframe tbody tr th {\n",
       "        vertical-align: top;\n",
       "    }\n",
       "\n",
       "    .dataframe thead th {\n",
       "        text-align: right;\n",
       "    }\n",
       "</style>\n",
       "<table border=\"1\" class=\"dataframe\">\n",
       "  <thead>\n",
       "    <tr style=\"text-align: right;\">\n",
       "      <th></th>\n",
       "      <th>order_id</th>\n",
       "      <th>cred_sum_cc_all</th>\n",
       "      <th>mfo_inqs_count_month</th>\n",
       "      <th>all_closed_creds_sum_all</th>\n",
       "      <th>bank_inqs_count_quarter</th>\n",
       "      <th>cred_max_overdue_max_ly</th>\n",
       "      <th>all_active_creds_sum_all</th>\n",
       "      <th>mfo_last_days_all</th>\n",
       "      <th>cred_sum_cc_ly</th>\n",
       "      <th>cred_sum_debt_all_all</th>\n",
       "      <th>...</th>\n",
       "      <th>cred_max_overdue_max_3lm</th>\n",
       "      <th>mfo_closed_count_ly</th>\n",
       "      <th>cred_sum_overdue_cc_all</th>\n",
       "      <th>count_overdue_all_3lm</th>\n",
       "      <th>all_creds_count_lm</th>\n",
       "      <th>work_code</th>\n",
       "      <th>month_income</th>\n",
       "      <th>region</th>\n",
       "      <th>bad</th>\n",
       "      <th>approved</th>\n",
       "    </tr>\n",
       "  </thead>\n",
       "  <tbody>\n",
       "    <tr>\n",
       "      <th>0</th>\n",
       "      <td>5498546</td>\n",
       "      <td>0.0</td>\n",
       "      <td>0</td>\n",
       "      <td>40364</td>\n",
       "      <td>0</td>\n",
       "      <td>0.0</td>\n",
       "      <td>3000</td>\n",
       "      <td>560</td>\n",
       "      <td>0.0</td>\n",
       "      <td>0.0</td>\n",
       "      <td>...</td>\n",
       "      <td>0.0</td>\n",
       "      <td>0</td>\n",
       "      <td>0.00</td>\n",
       "      <td>0</td>\n",
       "      <td>0</td>\n",
       "      <td>3</td>\n",
       "      <td>50000</td>\n",
       "      <td>46</td>\n",
       "      <td>NaN</td>\n",
       "      <td>0</td>\n",
       "    </tr>\n",
       "    <tr>\n",
       "      <th>1</th>\n",
       "      <td>5498604</td>\n",
       "      <td>1500.0</td>\n",
       "      <td>0</td>\n",
       "      <td>23456</td>\n",
       "      <td>0</td>\n",
       "      <td>0.0</td>\n",
       "      <td>0</td>\n",
       "      <td>9999</td>\n",
       "      <td>0.0</td>\n",
       "      <td>0.0</td>\n",
       "      <td>...</td>\n",
       "      <td>0.0</td>\n",
       "      <td>0</td>\n",
       "      <td>0.00</td>\n",
       "      <td>0</td>\n",
       "      <td>0</td>\n",
       "      <td>3</td>\n",
       "      <td>35000</td>\n",
       "      <td>17</td>\n",
       "      <td>NaN</td>\n",
       "      <td>0</td>\n",
       "    </tr>\n",
       "    <tr>\n",
       "      <th>2</th>\n",
       "      <td>5498609</td>\n",
       "      <td>0.1</td>\n",
       "      <td>0</td>\n",
       "      <td>17999</td>\n",
       "      <td>3</td>\n",
       "      <td>0.0</td>\n",
       "      <td>9999</td>\n",
       "      <td>9999</td>\n",
       "      <td>0.1</td>\n",
       "      <td>9999.0</td>\n",
       "      <td>...</td>\n",
       "      <td>0.0</td>\n",
       "      <td>0</td>\n",
       "      <td>0.00</td>\n",
       "      <td>0</td>\n",
       "      <td>2</td>\n",
       "      <td>3</td>\n",
       "      <td>35000</td>\n",
       "      <td>58</td>\n",
       "      <td>NaN</td>\n",
       "      <td>0</td>\n",
       "    </tr>\n",
       "    <tr>\n",
       "      <th>3</th>\n",
       "      <td>5498645</td>\n",
       "      <td>5000.0</td>\n",
       "      <td>0</td>\n",
       "      <td>313247</td>\n",
       "      <td>0</td>\n",
       "      <td>0.0</td>\n",
       "      <td>0</td>\n",
       "      <td>9999</td>\n",
       "      <td>0.0</td>\n",
       "      <td>0.0</td>\n",
       "      <td>...</td>\n",
       "      <td>0.0</td>\n",
       "      <td>0</td>\n",
       "      <td>4923.97</td>\n",
       "      <td>0</td>\n",
       "      <td>0</td>\n",
       "      <td>5</td>\n",
       "      <td>35000</td>\n",
       "      <td>4</td>\n",
       "      <td>NaN</td>\n",
       "      <td>0</td>\n",
       "    </tr>\n",
       "    <tr>\n",
       "      <th>4</th>\n",
       "      <td>5498647</td>\n",
       "      <td>0.0</td>\n",
       "      <td>0</td>\n",
       "      <td>0</td>\n",
       "      <td>1</td>\n",
       "      <td>0.0</td>\n",
       "      <td>0</td>\n",
       "      <td>9999</td>\n",
       "      <td>0.0</td>\n",
       "      <td>0.0</td>\n",
       "      <td>...</td>\n",
       "      <td>0.0</td>\n",
       "      <td>0</td>\n",
       "      <td>0.00</td>\n",
       "      <td>0</td>\n",
       "      <td>0</td>\n",
       "      <td>5</td>\n",
       "      <td>35000</td>\n",
       "      <td>34</td>\n",
       "      <td>NaN</td>\n",
       "      <td>0</td>\n",
       "    </tr>\n",
       "  </tbody>\n",
       "</table>\n",
       "<p>5 rows × 25 columns</p>\n",
       "</div>"
      ],
      "text/plain": [
       "   order_id  cred_sum_cc_all  mfo_inqs_count_month  all_closed_creds_sum_all  \\\n",
       "0   5498546              0.0                     0                     40364   \n",
       "1   5498604           1500.0                     0                     23456   \n",
       "2   5498609              0.1                     0                     17999   \n",
       "3   5498645           5000.0                     0                    313247   \n",
       "4   5498647              0.0                     0                         0   \n",
       "\n",
       "   bank_inqs_count_quarter  cred_max_overdue_max_ly  all_active_creds_sum_all  \\\n",
       "0                        0                      0.0                      3000   \n",
       "1                        0                      0.0                         0   \n",
       "2                        3                      0.0                      9999   \n",
       "3                        0                      0.0                         0   \n",
       "4                        1                      0.0                         0   \n",
       "\n",
       "   mfo_last_days_all  cred_sum_cc_ly  cred_sum_debt_all_all  ...  \\\n",
       "0                560             0.0                    0.0  ...   \n",
       "1               9999             0.0                    0.0  ...   \n",
       "2               9999             0.1                 9999.0  ...   \n",
       "3               9999             0.0                    0.0  ...   \n",
       "4               9999             0.0                    0.0  ...   \n",
       "\n",
       "   cred_max_overdue_max_3lm  mfo_closed_count_ly  cred_sum_overdue_cc_all  \\\n",
       "0                       0.0                    0                     0.00   \n",
       "1                       0.0                    0                     0.00   \n",
       "2                       0.0                    0                     0.00   \n",
       "3                       0.0                    0                  4923.97   \n",
       "4                       0.0                    0                     0.00   \n",
       "\n",
       "   count_overdue_all_3lm  all_creds_count_lm  work_code  month_income  region  \\\n",
       "0                      0                   0          3         50000      46   \n",
       "1                      0                   0          3         35000      17   \n",
       "2                      0                   2          3         35000      58   \n",
       "3                      0                   0          5         35000       4   \n",
       "4                      0                   0          5         35000      34   \n",
       "\n",
       "   bad  approved  \n",
       "0  NaN         0  \n",
       "1  NaN         0  \n",
       "2  NaN         0  \n",
       "3  NaN         0  \n",
       "4  NaN         0  \n",
       "\n",
       "[5 rows x 25 columns]"
      ]
     },
     "execution_count": 4,
     "metadata": {},
     "output_type": "execute_result"
    }
   ],
   "source": [
    "data.head()"
   ]
  },
  {
   "cell_type": "code",
   "execution_count": 5,
   "id": "089470ba-99eb-4ade-9397-31c3d8e3e03c",
   "metadata": {},
   "outputs": [],
   "source": [
    "#создадим списки вещественных и дискретных переменных\n",
    "real_features=['cred_sum_cc_all',\n",
    "               'cred_max_overdue_max_ly',\n",
    "               'cred_sum_cc_ly',\n",
    "               'cred_sum_debt_all_all',\n",
    "               'mfo_cred_mean_sum_3lm',\n",
    "               'cred_max_overdue_max_3lm',\n",
    "               'cred_sum_overdue_cc_all']\n",
    "\n",
    "discrete_features=['mfo_inqs_count_month',\n",
    "                   'all_closed_creds_sum_all',\n",
    "                   'bank_inqs_count_quarter',\n",
    "                   'all_active_creds_sum_all',\n",
    "                   'mfo_last_days_all',\n",
    "                   'all_closed_creds_sum_ly',\n",
    "                   'delay_more_sum_all',\n",
    "                  'all_creds_count_all',\n",
    "                   'cred_day_overdue_all_sum_all',\n",
    "                   'mfo_closed_count_ly',\n",
    "                   'count_overdue_all_3lm',\n",
    "                   'all_creds_count_lm',\n",
    "                   'month_income',\n",
    "                   'region',\n",
    "                   #'bad',\n",
    "                   'approved']\n",
    "\n",
    "cat_features=['work_code']"
   ]
  },
  {
   "cell_type": "markdown",
   "id": "6bb61d52-1764-48ce-8ffe-69fbf6d2b29f",
   "metadata": {},
   "source": [
    "### Графики распределения Вещественных признаков"
   ]
  },
  {
   "cell_type": "code",
   "execution_count": 6,
   "id": "78676b05-006a-4eed-9f73-819e3c0b681b",
   "metadata": {},
   "outputs": [
    {
     "data": {
      "image/png": "[encoded data removed]",
      "text/plain": [
       "<Figure size 1800x1440 with 9 Axes>"
      ]
     },
     "metadata": {
      "needs_background": "light"
     },
     "output_type": "display_data"
    }
   ],
   "source": [
    "data[real_features].hist(figsize=(25,20),bins=100)\n",
    "plt.plot()\n",
    "plt.savefig('graph1.png')"
   ]
  },
  {
   "cell_type": "markdown",
   "id": "c54d418c-83b1-48e1-8baa-912207dc1877",
   "metadata": {},
   "source": [
    "## Графики распределения дискретных признаков"
   ]
  },
  {
   "cell_type": "code",
   "execution_count": 7,
   "id": "9c8e995e-23bc-43d7-9ba3-d17b5539e499",
   "metadata": {},
   "outputs": [
    {
     "data": {
      "image/png": "[encoded data removed]",
      "text/plain": [
       "<Figure size 1800x1440 with 16 Axes>"
      ]
     },
     "metadata": {
      "needs_background": "light"
     },
     "output_type": "display_data"
    }
   ],
   "source": [
    "data[discrete_features].hist(figsize=(25,20),bins=50)\n",
    "plt.plot()\n",
    "plt.savefig('graph2.png')"
   ]
  },
  {
   "cell_type": "code",
   "execution_count": 8,
   "id": "0ca80e67-84d3-4025-a9b2-9d9bf330c2f6",
   "metadata": {},
   "outputs": [],
   "source": [
    "data.bad=data.bad.fillna(-1) #заменяе nan значения признака bad для упрощения работы"
   ]
  },
  {
   "cell_type": "markdown",
   "id": "5007ff41-8a8b-4679-9a7f-69c9d555a2a2",
   "metadata": {},
   "source": [
    "С помощью бутстрэпа найдем сначала доверительные интервалы для медианных значений признаков каждой из выборок, а затем доверительные интервалы для для разности медиан двух выборок."
   ]
  },
  {
   "cell_type": "code",
   "execution_count": 9,
   "id": "1cc1846e-6055-4774-863c-ebf7db141550",
   "metadata": {},
   "outputs": [],
   "source": [
    "def get_bootstrap_samples(data, n_samples):\n",
    "    indices = np.random.randint(0, len(data), (n_samples, len(data)) )\n",
    "    samples = data[indices]\n",
    "    return samples\n",
    "def stat_intervals(stat, alpha):\n",
    "    boundaries = np.percentile(stat, [100 * alpha / 2., 100 * (1 - alpha / 2.)])\n",
    "    return boundaries\n",
    "def conf_int_95(col,n=100):\n",
    "    values1 = data[data.bad!=(-1)][col].values\n",
    "    values2 = data[col].values\n",
    "\n",
    "    np.random.seed(0)\n",
    "\n",
    "    values1_median_scores = list(map(np.median, get_bootstrap_samples(values1, n)))\n",
    "    values2_median_scores = list(map(np.median, get_bootstrap_samples(values2, n)))\n",
    "    \n",
    "    min1,max1=stat_intervals(values1_median_scores, 0.05)[0],stat_intervals(values1_median_scores, 0.05)[1]\n",
    "    \n",
    "    min2,max2=stat_intervals(values2_median_scores, 0.05)[0],stat_intervals(values2_median_scores, 0.05)[1]\n",
    "    \n",
    "\n",
    "    #print(\"95% доверительный интервал \"+str(col)+\" для выданных кредитов(bad!=nan):\",  stat_intervals(values1_median_scores, 0.05))\n",
    "    #print(\"95% доверительный интервал \"+str(col)+\" для всей выборки:\",  stat_intervals(values2_median_scores, 0.05))\n",
    "    #print()\n",
    "    \n",
    "    delta_median_scores = list(map(lambda x: x[1] - x[0], zip(values1_median_scores, values2_median_scores)))\n",
    "    \n",
    "    delta_min,delta_max=stat_intervals(delta_median_scores, 0.05)[0],stat_intervals(delta_median_scores, 0.05)[1]\n",
    "    \n",
    "    #print(\"95% доверительный интервал для разности медиан\",  stat_intervals(delta_median_scores, 0.05))\n",
    "    return(min1,max1,min2,max2,delta_min,delta_max)"
   ]
  },
  {
   "cell_type": "code",
   "execution_count": 10,
   "id": "19f24c97-6023-43b2-9c60-c4b95059f4ac",
   "metadata": {
    "tags": []
   },
   "outputs": [],
   "source": [
    "bad_nan_min=[]\n",
    "bad_nan_max=[]\n",
    "\n",
    "all_min=[]\n",
    "all_max=[]\n",
    "\n",
    "delta_min=[]\n",
    "delta_max=[]\n",
    "\n",
    "\n",
    "for feature in real_features:\n",
    "    \n",
    "    min1,max1,min2,max2,delt_min,delt_max=conf_int_95(feature,n=1000)\n",
    "    \n",
    "    bad_nan_min.append(min1)\n",
    "    bad_nan_max.append(max1)\n",
    "    \n",
    "    all_min.append(min2)\n",
    "    all_max.append(max2)\n",
    "    \n",
    "    delta_min.append(delt_min)\n",
    "    delta_max.append(delt_max)\n",
    "    \n",
    "for feature in discrete_features:\n",
    "    min1,max1,min2,max2,delt_min,delt_max=conf_int_95(feature,n=1000)\n",
    "    \n",
    "    bad_nan_min.append(min1)\n",
    "    bad_nan_max.append(max1)\n",
    "    \n",
    "    all_min.append(min2)\n",
    "    all_max.append(max2)\n",
    "    \n",
    "    delta_min.append(delt_min)\n",
    "    delta_max.append(delt_max)\n",
    "    "
   ]
  },
  {
   "cell_type": "code",
   "execution_count": 11,
   "id": "2818c969-7ca9-4fee-a25c-cb3e0a8801bd",
   "metadata": {},
   "outputs": [],
   "source": [
    "#создадим небольшой датафрейм для удобства прдеставления границ доверительных интервалов\n",
    "feats=real_features+discrete_features\n",
    "conf_intervals=pd.DataFrame(feats)\n",
    "\n",
    "conf_intervals['bad_nan_min']=bad_nan_min\n",
    "conf_intervals['bad_nan_max']=bad_nan_max\n",
    "\n",
    "conf_intervals['all_min']=all_min\n",
    "conf_intervals['all_max']=all_max\n",
    "\n",
    "conf_intervals['delta_min']=delta_min\n",
    "conf_intervals['delta_max']=delta_max"
   ]
  },
  {
   "cell_type": "code",
   "execution_count": 12,
   "id": "f6be6b1d-a6a1-4f85-bd55-c6a8e155bab3",
   "metadata": {},
   "outputs": [
    {
     "data": {
      "text/html": [
       "<div>\n",
       "<style scoped>\n",
       "    .dataframe tbody tr th:only-of-type {\n",
       "        vertical-align: middle;\n",
       "    }\n",
       "\n",
       "    .dataframe tbody tr th {\n",
       "        vertical-align: top;\n",
       "    }\n",
       "\n",
       "    .dataframe thead th {\n",
       "        text-align: right;\n",
       "    }\n",
       "</style>\n",
       "<table border=\"1\" class=\"dataframe\">\n",
       "  <thead>\n",
       "    <tr style=\"text-align: right;\">\n",
       "      <th></th>\n",
       "      <th>0</th>\n",
       "      <th>bad_nan_min</th>\n",
       "      <th>bad_nan_max</th>\n",
       "      <th>all_min</th>\n",
       "      <th>all_max</th>\n",
       "      <th>delta_min</th>\n",
       "      <th>delta_max</th>\n",
       "    </tr>\n",
       "  </thead>\n",
       "  <tbody>\n",
       "    <tr>\n",
       "      <th>0</th>\n",
       "      <td>cred_sum_cc_all</td>\n",
       "      <td>30000.000000</td>\n",
       "      <td>32772.27900</td>\n",
       "      <td>5000.000</td>\n",
       "      <td>5000.000</td>\n",
       "      <td>-27772.279000</td>\n",
       "      <td>-25000.000000</td>\n",
       "    </tr>\n",
       "    <tr>\n",
       "      <th>1</th>\n",
       "      <td>cred_max_overdue_max_ly</td>\n",
       "      <td>0.000000</td>\n",
       "      <td>0.00000</td>\n",
       "      <td>0.000</td>\n",
       "      <td>0.000</td>\n",
       "      <td>0.000000</td>\n",
       "      <td>0.000000</td>\n",
       "    </tr>\n",
       "    <tr>\n",
       "      <th>2</th>\n",
       "      <td>cred_sum_cc_ly</td>\n",
       "      <td>0.000000</td>\n",
       "      <td>0.00000</td>\n",
       "      <td>0.000</td>\n",
       "      <td>0.000</td>\n",
       "      <td>0.000000</td>\n",
       "      <td>0.000000</td>\n",
       "    </tr>\n",
       "    <tr>\n",
       "      <th>3</th>\n",
       "      <td>cred_sum_debt_all_all</td>\n",
       "      <td>42078.807000</td>\n",
       "      <td>46700.00000</td>\n",
       "      <td>4500.000</td>\n",
       "      <td>5000.000</td>\n",
       "      <td>-41830.920875</td>\n",
       "      <td>-37168.423375</td>\n",
       "    </tr>\n",
       "    <tr>\n",
       "      <th>4</th>\n",
       "      <td>mfo_cred_mean_sum_3lm</td>\n",
       "      <td>6333.333333</td>\n",
       "      <td>6631.82807</td>\n",
       "      <td>724.375</td>\n",
       "      <td>1483.000</td>\n",
       "      <td>-5783.660714</td>\n",
       "      <td>-4952.753571</td>\n",
       "    </tr>\n",
       "    <tr>\n",
       "      <th>5</th>\n",
       "      <td>cred_max_overdue_max_3lm</td>\n",
       "      <td>0.000000</td>\n",
       "      <td>0.00000</td>\n",
       "      <td>0.000</td>\n",
       "      <td>0.000</td>\n",
       "      <td>0.000000</td>\n",
       "      <td>0.000000</td>\n",
       "    </tr>\n",
       "    <tr>\n",
       "      <th>6</th>\n",
       "      <td>cred_sum_overdue_cc_all</td>\n",
       "      <td>0.000000</td>\n",
       "      <td>0.00000</td>\n",
       "      <td>0.000</td>\n",
       "      <td>0.000</td>\n",
       "      <td>0.000000</td>\n",
       "      <td>0.000000</td>\n",
       "    </tr>\n",
       "    <tr>\n",
       "      <th>7</th>\n",
       "      <td>mfo_inqs_count_month</td>\n",
       "      <td>1.000000</td>\n",
       "      <td>1.00000</td>\n",
       "      <td>0.000</td>\n",
       "      <td>0.000</td>\n",
       "      <td>-1.000000</td>\n",
       "      <td>-1.000000</td>\n",
       "    </tr>\n",
       "    <tr>\n",
       "      <th>8</th>\n",
       "      <td>all_closed_creds_sum_all</td>\n",
       "      <td>87998.425000</td>\n",
       "      <td>97019.00000</td>\n",
       "      <td>29700.000</td>\n",
       "      <td>32000.000</td>\n",
       "      <td>-66297.837500</td>\n",
       "      <td>-57334.000000</td>\n",
       "    </tr>\n",
       "    <tr>\n",
       "      <th>9</th>\n",
       "      <td>bank_inqs_count_quarter</td>\n",
       "      <td>5.000000</td>\n",
       "      <td>5.00000</td>\n",
       "      <td>2.000</td>\n",
       "      <td>2.000</td>\n",
       "      <td>-3.000000</td>\n",
       "      <td>-3.000000</td>\n",
       "    </tr>\n",
       "    <tr>\n",
       "      <th>10</th>\n",
       "      <td>all_active_creds_sum_all</td>\n",
       "      <td>54808.000000</td>\n",
       "      <td>60833.60000</td>\n",
       "      <td>14500.000</td>\n",
       "      <td>15555.525</td>\n",
       "      <td>-45789.000000</td>\n",
       "      <td>-39594.175000</td>\n",
       "    </tr>\n",
       "    <tr>\n",
       "      <th>11</th>\n",
       "      <td>mfo_last_days_all</td>\n",
       "      <td>13.000000</td>\n",
       "      <td>14.00000</td>\n",
       "      <td>77.000</td>\n",
       "      <td>90.000</td>\n",
       "      <td>63.000000</td>\n",
       "      <td>77.000000</td>\n",
       "    </tr>\n",
       "    <tr>\n",
       "      <th>12</th>\n",
       "      <td>all_closed_creds_sum_ly</td>\n",
       "      <td>23000.000000</td>\n",
       "      <td>26351.95000</td>\n",
       "      <td>0.000</td>\n",
       "      <td>0.000</td>\n",
       "      <td>-26351.950000</td>\n",
       "      <td>-23000.000000</td>\n",
       "    </tr>\n",
       "    <tr>\n",
       "      <th>13</th>\n",
       "      <td>delay_more_sum_all</td>\n",
       "      <td>0.000000</td>\n",
       "      <td>0.00000</td>\n",
       "      <td>0.000</td>\n",
       "      <td>0.000</td>\n",
       "      <td>0.000000</td>\n",
       "      <td>0.000000</td>\n",
       "    </tr>\n",
       "    <tr>\n",
       "      <th>14</th>\n",
       "      <td>all_creds_count_all</td>\n",
       "      <td>12.000000</td>\n",
       "      <td>13.00000</td>\n",
       "      <td>6.000</td>\n",
       "      <td>6.000</td>\n",
       "      <td>-7.000000</td>\n",
       "      <td>-6.000000</td>\n",
       "    </tr>\n",
       "    <tr>\n",
       "      <th>15</th>\n",
       "      <td>cred_day_overdue_all_sum_all</td>\n",
       "      <td>0.000000</td>\n",
       "      <td>0.00000</td>\n",
       "      <td>0.000</td>\n",
       "      <td>0.000</td>\n",
       "      <td>0.000000</td>\n",
       "      <td>0.000000</td>\n",
       "    </tr>\n",
       "    <tr>\n",
       "      <th>16</th>\n",
       "      <td>mfo_closed_count_ly</td>\n",
       "      <td>3.000000</td>\n",
       "      <td>4.00000</td>\n",
       "      <td>0.000</td>\n",
       "      <td>0.000</td>\n",
       "      <td>-4.000000</td>\n",
       "      <td>-3.000000</td>\n",
       "    </tr>\n",
       "    <tr>\n",
       "      <th>17</th>\n",
       "      <td>count_overdue_all_3lm</td>\n",
       "      <td>0.000000</td>\n",
       "      <td>0.00000</td>\n",
       "      <td>0.000</td>\n",
       "      <td>0.000</td>\n",
       "      <td>0.000000</td>\n",
       "      <td>0.000000</td>\n",
       "    </tr>\n",
       "    <tr>\n",
       "      <th>18</th>\n",
       "      <td>all_creds_count_lm</td>\n",
       "      <td>1.000000</td>\n",
       "      <td>2.00000</td>\n",
       "      <td>0.000</td>\n",
       "      <td>0.000</td>\n",
       "      <td>-2.000000</td>\n",
       "      <td>-1.000000</td>\n",
       "    </tr>\n",
       "    <tr>\n",
       "      <th>19</th>\n",
       "      <td>month_income</td>\n",
       "      <td>50000.000000</td>\n",
       "      <td>50000.00000</td>\n",
       "      <td>35000.000</td>\n",
       "      <td>35000.000</td>\n",
       "      <td>-15000.000000</td>\n",
       "      <td>-15000.000000</td>\n",
       "    </tr>\n",
       "    <tr>\n",
       "      <th>20</th>\n",
       "      <td>region</td>\n",
       "      <td>46.000000</td>\n",
       "      <td>46.00000</td>\n",
       "      <td>46.000</td>\n",
       "      <td>46.000</td>\n",
       "      <td>0.000000</td>\n",
       "      <td>0.000000</td>\n",
       "    </tr>\n",
       "    <tr>\n",
       "      <th>21</th>\n",
       "      <td>approved</td>\n",
       "      <td>1.000000</td>\n",
       "      <td>1.00000</td>\n",
       "      <td>0.000</td>\n",
       "      <td>0.000</td>\n",
       "      <td>-1.000000</td>\n",
       "      <td>-1.000000</td>\n",
       "    </tr>\n",
       "  </tbody>\n",
       "</table>\n",
       "</div>"
      ],
      "text/plain": [
       "                               0   bad_nan_min  bad_nan_max    all_min  \\\n",
       "0                cred_sum_cc_all  30000.000000  32772.27900   5000.000   \n",
       "1        cred_max_overdue_max_ly      0.000000      0.00000      0.000   \n",
       "2                 cred_sum_cc_ly      0.000000      0.00000      0.000   \n",
       "3          cred_sum_debt_all_all  42078.807000  46700.00000   4500.000   \n",
       "4          mfo_cred_mean_sum_3lm   6333.333333   6631.82807    724.375   \n",
       "5       cred_max_overdue_max_3lm      0.000000      0.00000      0.000   \n",
       "6        cred_sum_overdue_cc_all      0.000000      0.00000      0.000   \n",
       "7           mfo_inqs_count_month      1.000000      1.00000      0.000   \n",
       "8       all_closed_creds_sum_all  87998.425000  97019.00000  29700.000   \n",
       "9        bank_inqs_count_quarter      5.000000      5.00000      2.000   \n",
       "10      all_active_creds_sum_all  54808.000000  60833.60000  14500.000   \n",
       "11             mfo_last_days_all     13.000000     14.00000     77.000   \n",
       "12       all_closed_creds_sum_ly  23000.000000  26351.95000      0.000   \n",
       "13            delay_more_sum_all      0.000000      0.00000      0.000   \n",
       "14           all_creds_count_all     12.000000     13.00000      6.000   \n",
       "15  cred_day_overdue_all_sum_all      0.000000      0.00000      0.000   \n",
       "16           mfo_closed_count_ly      3.000000      4.00000      0.000   \n",
       "17         count_overdue_all_3lm      0.000000      0.00000      0.000   \n",
       "18            all_creds_count_lm      1.000000      2.00000      0.000   \n",
       "19                  month_income  50000.000000  50000.00000  35000.000   \n",
       "20                        region     46.000000     46.00000     46.000   \n",
       "21                      approved      1.000000      1.00000      0.000   \n",
       "\n",
       "      all_max     delta_min     delta_max  \n",
       "0    5000.000 -27772.279000 -25000.000000  \n",
       "1       0.000      0.000000      0.000000  \n",
       "2       0.000      0.000000      0.000000  \n",
       "3    5000.000 -41830.920875 -37168.423375  \n",
       "4    1483.000  -5783.660714  -4952.753571  \n",
       "5       0.000      0.000000      0.000000  \n",
       "6       0.000      0.000000      0.000000  \n",
       "7       0.000     -1.000000     -1.000000  \n",
       "8   32000.000 -66297.837500 -57334.000000  \n",
       "9       2.000     -3.000000     -3.000000  \n",
       "10  15555.525 -45789.000000 -39594.175000  \n",
       "11     90.000     63.000000     77.000000  \n",
       "12      0.000 -26351.950000 -23000.000000  \n",
       "13      0.000      0.000000      0.000000  \n",
       "14      6.000     -7.000000     -6.000000  \n",
       "15      0.000      0.000000      0.000000  \n",
       "16      0.000     -4.000000     -3.000000  \n",
       "17      0.000      0.000000      0.000000  \n",
       "18      0.000     -2.000000     -1.000000  \n",
       "19  35000.000 -15000.000000 -15000.000000  \n",
       "20     46.000      0.000000      0.000000  \n",
       "21      0.000     -1.000000     -1.000000  "
      ]
     },
     "execution_count": 12,
     "metadata": {},
     "output_type": "execute_result"
    }
   ],
   "source": [
    "conf_intervals"
   ]
  },
  {
   "cell_type": "code",
   "execution_count": 13,
   "id": "45cbaf29-564c-44f1-b566-d40a4562f00c",
   "metadata": {},
   "outputs": [],
   "source": [
    "conf_intervals.to_csv('tabl_conf.csv',sep=';',encoding='utf-8', index=False)"
   ]
  },
  {
   "cell_type": "code",
   "execution_count": 14,
   "id": "4850f684-653c-4d3b-ad59-b92ab66c7244",
   "metadata": {},
   "outputs": [
    {
     "name": "stdout",
     "output_type": "stream",
     "text": [
      "cred_sum_cc_all\n",
      "cred_sum_debt_all_all\n",
      "mfo_cred_mean_sum_3lm\n",
      "mfo_inqs_count_month\n",
      "all_closed_creds_sum_all\n",
      "bank_inqs_count_quarter\n",
      "all_active_creds_sum_all\n",
      "mfo_last_days_all\n",
      "all_closed_creds_sum_ly\n",
      "all_creds_count_all\n",
      "mfo_closed_count_ly\n",
      "all_creds_count_lm\n",
      "month_income\n",
      "approved\n"
     ]
    }
   ],
   "source": [
    "#выведем признаки, доверительные интервалы которых для медианных значений не пересекаются для двух выборок\n",
    "diff_feats=[]\n",
    "for i in range(len(conf_intervals)):\n",
    "    if (conf_intervals.iloc[i].delta_min>0) or (conf_intervals.iloc[i].delta_max<0):\n",
    "        diff_feats.append(conf_intervals.iloc[i][0])\n",
    "        print(conf_intervals.iloc[i][0])"
   ]
  },
  {
   "cell_type": "markdown",
   "id": "6907a647-2c02-4328-9a3f-2bee5e0974ce",
   "metadata": {
    "tags": []
   },
   "source": [
    "# Признаки отличающиеся на выборке выданных кредитов от всей выборки"
   ]
  },
  {
   "cell_type": "markdown",
   "id": "027c0ed3-b52e-4bce-bd60-a0229803d8c8",
   "metadata": {
    "tags": []
   },
   "source": [
    "#### cred_sum_cc_all- сумма кредитов по кредитным картам\n",
    "Для случаев одобренных кредитов медианное значение заметно выше, чем по всей выборке. У людей с суммой кредитов выше явно большее количество одобренных кредитов, также можно предположить,что они берут кредиты, которые в состоянии оплатить, оценивая объективно свои финансовые способности\n",
    "\n",
    "#### cred_sum_debt_all_all- Сумма задолженности по всем кредитам\n",
    "По логике,если клиенту чаще одобряют кредиты, то выше вероятность появления задолженностей, возможно что им продолжают одобрять кредиты,так как время просрочки у них малое, либо они рано или поздно платят за кредит к тому же с процентами за просрочку, что выгодно для кредитора.\n",
    "\n",
    "\n",
    "#### mfo_cred_mean_sum_3lm-Средняя сумма МФО кредитов, выданных за последние 3 месяца\n",
    "В данном случае у одобренных кредитов это принак выше. Можно предположить, что если клиенту было одобрено много кредитов в последнее время, то у него хорошая кредитная история, так как выряд либы ему одобрили эти кредиты, то есть можно положиться на клиента, на которого положились в прошлом ,либо же можно предположить, что есть уверенность по другим признакам, что клиент вернет кредит рано или поздно, и в случае просрочки еще и заплатит процент.\n",
    "\n",
    "\n",
    "#### mfo_inqs_count_month- количество запросов на кредиты в другие в МФО за месяц\n",
    "Для одобренных кредитов медианное значение выше, могу предположить ,что данный признак надо рассматривать в купе с признаком возвращенных кредитов за последнее время, тогда человек обратившийся в последний месяц за кредитом и вернувший его выглдяит надежным. \n",
    "\n",
    "#### all_closed_creds_sum_all-Сумма закрытых кредитов за все время\n",
    "Для выборки одобренных кредитов данный признак значительно выше, это легко объяснимо, если кредитор видит, чт клиент возвращает долги, то такой клиент выглядит надежным, и можно не беспокоиться о потере средств.\n",
    "\n",
    "\n",
    "#### bank_inqs_count_quarter- количество запросов на кредиты в банки\n",
    "Для одобренных кредитов данное значение выше, можно предположить, что если клиент обращается в банк, то у него  есть шанс на получение кредита, что невозможно без хорошей кредитной истории, а раз у него хорошая история, то такой клиент надежен. То есть если с клиентом работают банки, то следовательно с ним также можно работать.\n",
    "\n",
    "#### all_active_creds_sum_all-денежная сумма всех активных кредитов\n",
    "у одобренных кредитов данное значение больше, можно предположить, что данный признак логичнее рассматривать в отношении к зарплате, то есть оценивая финансовые возможности клиента.\n",
    "\n",
    "\n",
    "#### mfo_last_days_all- Количество дней с последнего займа в МФО\n",
    "Для одобренных кредитов данное значение ниже. Можно предположить ,что люди чаще обращающиеся за кредитами, лучше знакомы с данной ситуацией и могут оценить свое финансовое положение и грамотно вернуть занятые средства.\n",
    "\n",
    "\n",
    "#### all_closed_creds_sum_ly-Сумма закрытых кредитов за последний год\n",
    "также как и в случае с  суммами возвращенными за все время, человек возвращающий ердеиты выглядит надежным для кредитора и выгодно оформить ему кредит\n",
    "\n",
    "#### mfo_closed_count_ly- Количество закрытых МФО кредитов, взятых за последний год\n",
    "Для одобренных кредитов данный признак выше, что выглядит логичным. Клиенты закрыващие кредиты выглядят надежными и велика вероятность, что и вновь они вернут кредит\n",
    "\n",
    "\n",
    "\n",
    "#### all_creds_count_all-Общее количество кредитов\n",
    "У одобренных кредитов данное значение выше, можно предположить, что данный признак важен вкупе с другими признакми, так как например для клиента с малой зарплатой и с большим количеством кредитов меньше вероятность, что он вернет кредит, также важна сама сумма всех кредитов.\n",
    "\n",
    "#### month_income-месячный доход\n",
    "для одобренных кредитов данный признак выше, что абсолютно логично, так как человек имеющий бОльшие финансовые возможности выглдяит более надежным клиентом для кредитора, что дает гарантию на возврат кредита.\n",
    "\n",
    "#### all_creds_count_lm-Количество кредитов, взятых за последний месяц\n",
    "Для одобренных кредитов данное значение выше, данный признак логичнее рассматривать вкупе с признакками зарплаты, суммы кредитов."
   ]
  },
  {
   "cell_type": "code",
   "execution_count": 15,
   "id": "3ad5dabd-2f05-46fc-9e0a-7ca18fdf263e",
   "metadata": {},
   "outputs": [
    {
     "data": {
      "image/png": "[encoded data removed]",
      "text/plain": [
       "<Figure size 1440x576 with 1 Axes>"
      ]
     },
     "metadata": {
      "needs_background": "light"
     },
     "output_type": "display_data"
    },
    {
     "data": {
      "text/plain": [
       "<Figure size 432x288 with 0 Axes>"
      ]
     },
     "metadata": {},
     "output_type": "display_data"
    },
    {
     "data": {
      "image/png": "[encoded data removed]",
      "text/plain": [
       "<Figure size 1440x576 with 1 Axes>"
      ]
     },
     "metadata": {
      "needs_background": "light"
     },
     "output_type": "display_data"
    },
    {
     "data": {
      "text/plain": [
       "<Figure size 432x288 with 0 Axes>"
      ]
     },
     "metadata": {},
     "output_type": "display_data"
    },
    {
     "data": {
      "image/png": "[encoded data removed]",
      "text/plain": [
       "<Figure size 1440x576 with 1 Axes>"
      ]
     },
     "metadata": {
      "needs_background": "light"
     },
     "output_type": "display_data"
    },
    {
     "data": {
      "text/plain": [
       "<Figure size 432x288 with 0 Axes>"
      ]
     },
     "metadata": {},
     "output_type": "display_data"
    },
    {
     "data": {
      "image/png": "[encoded data removed]",
      "text/plain": [
       "<Figure size 1440x576 with 1 Axes>"
      ]
     },
     "metadata": {
      "needs_background": "light"
     },
     "output_type": "display_data"
    },
    {
     "data": {
      "text/plain": [
       "<Figure size 432x288 with 0 Axes>"
      ]
     },
     "metadata": {},
     "output_type": "display_data"
    },
    {
     "data": {
      "image/png": "[encoded data removed]",
      "text/plain": [
       "<Figure size 1440x576 with 1 Axes>"
      ]
     },
     "metadata": {
      "needs_background": "light"
     },
     "output_type": "display_data"
    },
    {
     "data": {
      "text/plain": [
       "<Figure size 432x288 with 0 Axes>"
      ]
     },
     "metadata": {},
     "output_type": "display_data"
    }
   ],
   "source": [
    "import warnings\n",
    "warnings.simplefilter(action='ignore', category=FutureWarning)\n",
    "\n",
    "\n",
    "plt.figure(figsize=(20, 8))\n",
    "\n",
    "plt.gca().spines['right'].set_color('none')\n",
    "plt.gca().spines['top'].set_color('none')\n",
    "\n",
    "plt.ylabel('Плотность распределения', fontsize=14, labelpad=7.5)\n",
    "plt.xticks(fontsize=14) \n",
    "plt.yticks(fontsize=14)\n",
    "\n",
    "sns.distplot(data[data.bad!=(-1)]['mfo_cred_mean_sum_3lm'], hist=False, color='grey', axlabel=False, kde_kws={\"linewidth\": 4},label='Выданные кредиты')\n",
    "sns.distplot(data['mfo_cred_mean_sum_3lm'], hist=False, color='cornflowerblue', axlabel=False, kde_kws={\"linewidth\": 4},label='Вся выборка')\n",
    "plt.xlabel('Средняя сумма МФО кредитов, выданных за последние 3 месяца')\n",
    "plt.xlim(0,30000)\n",
    "plt.legend()\n",
    "plt.show()\n",
    "plt.savefig('graph3.png')\n",
    "\n",
    "\n",
    "\n",
    "plt.figure(figsize=(20, 8))\n",
    "\n",
    "plt.gca().spines['right'].set_color('none')\n",
    "plt.gca().spines['top'].set_color('none')\n",
    "\n",
    "plt.ylabel('Плотность распределения', fontsize=14, labelpad=7.5)\n",
    "plt.xticks(fontsize=14) \n",
    "plt.yticks(fontsize=14)\n",
    "\n",
    "sns.distplot(data[data.bad!=(-1)]['all_creds_count_all'], hist=False, color='grey', axlabel=False, kde_kws={\"linewidth\": 4},label='Выданные кредиты')\n",
    "sns.distplot(data['all_creds_count_all'], hist=False, color='cornflowerblue', axlabel=False, kde_kws={\"linewidth\": 4},label='Вся выборка')\n",
    "plt.xlabel('Общее количество кредитов')\n",
    "plt.xlim(0,200)\n",
    "plt.legend()\n",
    "plt.show()\n",
    "plt.savefig('graph4.png')\n",
    "\n",
    "\n",
    "\n",
    "plt.figure(figsize=(20, 8))\n",
    "\n",
    "plt.gca().spines['right'].set_color('none')\n",
    "plt.gca().spines['top'].set_color('none')\n",
    "\n",
    "plt.ylabel('Плотность распределения', fontsize=14, labelpad=7.5)\n",
    "plt.xticks(fontsize=14) \n",
    "plt.yticks(fontsize=14)\n",
    "\n",
    "sns.distplot(data[data.bad!=(-1)]['cred_sum_cc_all'], hist=False, color='grey', axlabel=False, kde_kws={\"linewidth\": 4},label='Выданные кредиты')\n",
    "sns.distplot(data['cred_sum_cc_all'], hist=False, color='cornflowerblue', axlabel=False, kde_kws={\"linewidth\": 4},label='Вся выборка')\n",
    "plt.xlabel('Сумма кредитов по кредитным картам')\n",
    "plt.xlim(0,500000)\n",
    "plt.legend()\n",
    "plt.show()\n",
    "plt.savefig('graph5.png')\n",
    "\n",
    "\n",
    "\n",
    "plt.figure(figsize=(20, 8))\n",
    "\n",
    "plt.gca().spines['right'].set_color('none')\n",
    "plt.gca().spines['top'].set_color('none')\n",
    "\n",
    "plt.ylabel('Плотность распределения', fontsize=14, labelpad=7.5)\n",
    "plt.xticks(fontsize=14) \n",
    "plt.yticks(fontsize=14)\n",
    "\n",
    "sns.distplot(data[data.bad!=(-1)]['all_active_creds_sum_all'], hist=False, color='grey', axlabel=False, kde_kws={\"linewidth\": 4},label='Выданные кредиты')\n",
    "sns.distplot(data['all_active_creds_sum_all'], hist=False, color='cornflowerblue', axlabel=False, kde_kws={\"linewidth\": 4},label='Вся выборка')\n",
    "plt.xlabel('Денежная сумма всех активных кредитов')\n",
    "plt.xlim(0,1000000)\n",
    "plt.legend()\n",
    "plt.show()\n",
    "plt.savefig('graph6.png')\n",
    "\n",
    "\n",
    "\n",
    "\n",
    "plt.figure(figsize=(20, 8))\n",
    "\n",
    "plt.gca().spines['right'].set_color('none')\n",
    "plt.gca().spines['top'].set_color('none')\n",
    "\n",
    "plt.ylabel('Плотность распределения', fontsize=14, labelpad=7.5)\n",
    "plt.xticks(fontsize=14) \n",
    "plt.yticks(fontsize=14)\n",
    "\n",
    "sns.distplot(data[data.bad!=(-1)]['mfo_last_days_all'], hist=False, color='grey', axlabel=False, kde_kws={\"linewidth\": 4},label='Выданные кредиты')\n",
    "sns.distplot(data['mfo_last_days_all'], hist=False, color='cornflowerblue', axlabel=False, kde_kws={\"linewidth\": 4},label='Вся выборка')\n",
    "plt.xlabel('Количество дней с последнего займа в МФО')\n",
    "plt.xlim(0,13000)\n",
    "plt.legend()\n",
    "plt.show()\n",
    "plt.savefig('graph7.png')"
   ]
  },
  {
   "cell_type": "markdown",
   "id": "4bd829f8-d50b-4554-9708-37b0aba4bcbc",
   "metadata": {
    "tags": []
   },
   "source": [
    "# Признаки, чьи средние значения совпадают на обеих выборках"
   ]
  },
  {
   "cell_type": "markdown",
   "id": "da0765aa-3ecb-4e69-9b15-e6346084fe67",
   "metadata": {
    "tags": []
   },
   "source": [
    "#### cred_max_overdue_max_ly-максимальная просрочка за год\n",
    "Разница между медианными двух выборок не наблюдается.(Судя по значениям в этом признаке находится макс. сумма просроченного кредита, что неочевидно по названию). \n",
    "Исходя из этогоможно сказать, что сумма просрочки на год не влияет на одобрение кредита, тем не менее данный признак может быть разным для выборок,если рассматривать его вместе м каким-либо другим признаком вместе(сгенеррировать новые признаки).\n",
    "\n",
    "#### cred_sum_cc_ly-Сумма лимитов кредитных карт, оформленных за последний год\n",
    "Медианное значение для двух выборок равно нулю. Лимит кредитных карт может не отражать факт того, что клиент вернет кредит. Кредитная карта может иметь большой лимит, но клиент им никогда и не воспользуется, либо воспользуется, но на сумму гораздо меньшую лимита. Поэтому отсутсвие различий в двух выборках для этого признака вполне логично.\n",
    "\n",
    "#### cred_max_overdue_max_3lm-Максимальная сумма просроченной задолженности, по кредитам взятым за последние 3 месяца\n",
    "Медианное значение для двух выборок не отличается. Судя по графику, большие суммы задолженностей-это большая редкость, поэтомудля двух выборок нет различийв медианных значениях, можно предположить, что клиенты очень редко допускают большие просрочки по кредитам.\n",
    "\n",
    "\n",
    "#### cred_sum_overdue_cc_all-Сумма просрочек по кредитным картам\n",
    "Также как и для макс. суммы просрочек большинство клиентов не допускают больших просрочек по кредитным картам. Те клиенты, у которых такие все же имеются, можно рассматривать как выбросы. поэтому на медианных значениях это не отражается.\n",
    "\n",
    "\n",
    "\n",
    "#### all_closed_creds_sum_ly-количество закрытых кредитов за год\n",
    "Разницы между медианными значениями не наблюдается. Действительно, при выдаче нового кредита куда более важно знать примерно понимание финансового положения клиента, поэтому количество кредитов за последний период более показательно, так как у клиента могут быть разные периоды финансового положения на протяжении всей жизни.\n",
    "\n",
    "\n",
    "#### cred_day_overdue_all_sum_all- Суммарное количество дней просрочки текущих активных кредитов\n",
    "Медианные значения не различаются. Так как скорее всего большое колтчество лней просрочки имеется у самого минимального количества клиентов, что также может расцениваться, как выбросы. Возможно, что это просрочка по одному кредиту на малую сумму, но она составляет большое количество дней, это не дает стопроцентной гарантии, что взяв новый кредит он его не вернет.\n",
    "\n",
    "\n",
    "\n",
    "#### count_overdue_all_3lm- Количество кредитов на просрочке, взятых за последние 3 месяца\n",
    "Судя по графику, львиная доля клиентов не имеет просрочек вообще за последние три месяца и лишь малая часть имеет их более одного, то есть это можно рассматривать как выбросы.\n",
    "\n",
    "\n",
    "#### region-регион\n",
    "Нет различий, следовательно можно сделать вывод, что одбрение кредита не зависит от региона, где живет клиент.\n",
    "\n",
    "#### delay_more_sum_all-Количество просрочек более чем на 90 дней по всем кредитам\n",
    "Для всей выборки по оценке медианное значение равно 0, для выборки клиентов, которым одобрили кредит это значение составляет 1. И это не выглядит очевидным, возможно, что этот признак вкупе с какими-то другими признаками дает более логичное объяснение, например с количеством взятых кредитов за последний год или с суммой активных кредитов. Например, если у человека просрочка на 90 дней на малую сумму, при этом клиент всегда возарвщал предыдущие кредиты, и он берет еще один кредит также на малую сумму, то риск может быть на самом деле меньше, чем кажется на первый взгляд на наличие просрочки."
   ]
  },
  {
   "cell_type": "markdown",
   "id": "f911df64-556e-4074-9f25-39f66552d8a7",
   "metadata": {},
   "source": [
    "feature_13\n",
    "feature_4\n",
    "feature_8\n",
    "feature_16\n",
    "feature_9"
   ]
  },
  {
   "cell_type": "markdown",
   "id": "af022de1-6b77-494f-a9f6-865fbb6994f6",
   "metadata": {
    "tags": []
   },
   "source": [
    "# Обучение классификатора"
   ]
  },
  {
   "cell_type": "code",
   "execution_count": 16,
   "id": "13558e9b-1b53-40c8-98b5-8e4590ddc102",
   "metadata": {},
   "outputs": [],
   "source": [
    "# попытка создать новые признаки не увенчалась успехом\n",
    "def data_feats(data):\n",
    " #   data['feature_1']=data['all_closed_creds_sum_all']/data['all_active_creds_sum_all']\n",
    "    #data['feature_2']=data['cred_sum_cc_all']/data['cred_sum_debt_all_all']\n",
    "  #  data['feature_3']=data['all_active_creds_sum_all']/data['all_creds_count_all']\n",
    "   # data['feature_4']=data['all_closed_creds_sum_ly']/data['all_creds_count_all']\n",
    "  #  data['feature_5']=data['cred_max_overdue_max_ly']/data['month_income']\n",
    "  #  data['feature_6']=data['cred_sum_overdue_cc_all']/data['month_income']\n",
    "  #  data['feature_7']=data['cred_max_overdue_max_ly']/data['month_income']\n",
    "   # data['feature_8']=data['all_closed_creds_sum_ly']/data['mfo_closed_count_ly']\n",
    "    #data['feature_9']=data['all_creds_count_lm']/data['mfo_inqs_count_month']\n",
    "    #data['feature_10']=data['count_overdue_all_3lm']/3\n",
    "    #data['feature_11']=data['all_creds_count_lm']/30\n",
    "    #data['feature_12']=data['mfo_closed_count_ly']/12\n",
    "    #data['feature_13']=data['mfo_inqs_count_month']/30\n",
    "    #data['feature_14']=data['count_overdue_all_3lm']/data['all_creds_count_lm']\n",
    "    #data['feature_15']=data['cred_max_overdue_max_3lm']/data['cred_max_overdue_max_ly']\n",
    "    #data['feature_16']=data['all_active_creds_sum_all']/data['all_closed_creds_sum_all']\n",
    "    #data['feature_17']=data['cred_max_overdue_max_3lm']/data['month_income']\n",
    "    \n",
    "    return data"
   ]
  },
  {
   "cell_type": "code",
   "execution_count": 17,
   "id": "da9dc39d-4be9-4787-9018-527df6cbf5a0",
   "metadata": {},
   "outputs": [],
   "source": [
    "import catboost as ctb\n",
    "from sklearn.model_selection import GridSearchCV,RandomizedSearchCV,cross_val_score,train_test_split,TimeSeriesSplit"
   ]
  },
  {
   "cell_type": "code",
   "execution_count": 18,
   "id": "e48e07ee-35b7-4fb9-92c3-c72b99c3471e",
   "metadata": {},
   "outputs": [],
   "source": [
    "data=data_feats(data)\n",
    "data=data.fillna(-999)\n",
    "\n",
    "data.replace([np.inf, -np.inf], np.nan,inplace=True)\n",
    "\n",
    "data_approved=data[data.approved==1]\n",
    "data_approved=data_approved.sort_values('order_id')\n",
    "#data_approved=data_approved.drop(['order_id'],axis=1)\n",
    "\n",
    "target_approved=data_approved['bad'].astype('int32')\n",
    "\n",
    "\n",
    "data_approved=data_approved.drop(['bad','approved'],axis=1)\n",
    "\n",
    "data_approved=data_approved.fillna(-999)"
   ]
  },
  {
   "cell_type": "code",
   "execution_count": 19,
   "id": "6c2621a1-3020-4901-970a-2b3392e14415",
   "metadata": {},
   "outputs": [
    {
     "data": {
      "text/plain": [
       "<AxesSubplot:>"
      ]
     },
     "execution_count": 19,
     "metadata": {},
     "output_type": "execute_result"
    },
    {
     "data": {
      "image/png": "[encoded data removed]",
      "text/plain": [
       "<Figure size 432x288 with 1 Axes>"
      ]
     },
     "metadata": {
      "needs_background": "light"
     },
     "output_type": "display_data"
    }
   ],
   "source": [
    "data['bad'].hist()"
   ]
  },
  {
   "cell_type": "code",
   "execution_count": 20,
   "id": "49b3c33c-d715-4711-b33d-455ece723257",
   "metadata": {},
   "outputs": [
    {
     "name": "stdout",
     "output_type": "stream",
     "text": [
      "Fitting 3 folds for each of 1 candidates, totalling 3 fits\n",
      "[CV 1/3] END ..................................., score=0.569 total time=   4.1s\n",
      "[CV 2/3] END ..................................., score=0.580 total time=   4.1s\n",
      "[CV 3/3] END ..................................., score=0.577 total time=   4.7s\n",
      "{}\n",
      "Wall time: 18.7 s\n"
     ]
    }
   ],
   "source": [
    "%%time\n",
    "ctb_clf=ctb.CatBoostClassifier(verbose=0)\n",
    "param_grid = {\n",
    "    }\n",
    "\n",
    "tscv=TimeSeriesSplit(n_splits=3)\n",
    "cat_grid_cv=GridSearchCV(ctb_clf,param_grid,cv=tscv,n_jobs=1,verbose=3,scoring='roc_auc')\n",
    "\n",
    "\n",
    "cat_grid_cv.fit(data_approved,target_approved)\n",
    "print(cat_grid_cv.best_params_)\n",
    "\n",
    "best_clf_1=cat_grid_cv.best_estimator_"
   ]
  },
  {
   "cell_type": "code",
   "execution_count": 21,
   "id": "919a702e-8984-4e67-97d5-d82b6b0329af",
   "metadata": {},
   "outputs": [],
   "source": [
    "#data_approved=data_approved.drop(['order_id'],axis=1)"
   ]
  },
  {
   "cell_type": "code",
   "execution_count": 22,
   "id": "23ec8bcf-f7d5-4811-ad21-86c1ecee07c5",
   "metadata": {},
   "outputs": [
    {
     "data": {
      "text/html": [
       "<div>\n",
       "<style scoped>\n",
       "    .dataframe tbody tr th:only-of-type {\n",
       "        vertical-align: middle;\n",
       "    }\n",
       "\n",
       "    .dataframe tbody tr th {\n",
       "        vertical-align: top;\n",
       "    }\n",
       "\n",
       "    .dataframe thead th {\n",
       "        text-align: right;\n",
       "    }\n",
       "</style>\n",
       "<table border=\"1\" class=\"dataframe\">\n",
       "  <thead>\n",
       "    <tr style=\"text-align: right;\">\n",
       "      <th></th>\n",
       "      <th>features</th>\n",
       "      <th>feature_importances</th>\n",
       "    </tr>\n",
       "  </thead>\n",
       "  <tbody>\n",
       "    <tr>\n",
       "      <th>0</th>\n",
       "      <td>order_id</td>\n",
       "      <td>8.175516</td>\n",
       "    </tr>\n",
       "    <tr>\n",
       "      <th>22</th>\n",
       "      <td>region</td>\n",
       "      <td>7.883965</td>\n",
       "    </tr>\n",
       "    <tr>\n",
       "      <th>3</th>\n",
       "      <td>all_closed_creds_sum_all</td>\n",
       "      <td>6.727619</td>\n",
       "    </tr>\n",
       "    <tr>\n",
       "      <th>10</th>\n",
       "      <td>all_closed_creds_sum_ly</td>\n",
       "      <td>6.308764</td>\n",
       "    </tr>\n",
       "    <tr>\n",
       "      <th>11</th>\n",
       "      <td>mfo_cred_mean_sum_3lm</td>\n",
       "      <td>5.751153</td>\n",
       "    </tr>\n",
       "    <tr>\n",
       "      <th>7</th>\n",
       "      <td>mfo_last_days_all</td>\n",
       "      <td>5.281313</td>\n",
       "    </tr>\n",
       "    <tr>\n",
       "      <th>6</th>\n",
       "      <td>all_active_creds_sum_all</td>\n",
       "      <td>5.268556</td>\n",
       "    </tr>\n",
       "    <tr>\n",
       "      <th>1</th>\n",
       "      <td>cred_sum_cc_all</td>\n",
       "      <td>5.149429</td>\n",
       "    </tr>\n",
       "    <tr>\n",
       "      <th>4</th>\n",
       "      <td>bank_inqs_count_quarter</td>\n",
       "      <td>5.047002</td>\n",
       "    </tr>\n",
       "    <tr>\n",
       "      <th>9</th>\n",
       "      <td>cred_sum_debt_all_all</td>\n",
       "      <td>5.040656</td>\n",
       "    </tr>\n",
       "    <tr>\n",
       "      <th>2</th>\n",
       "      <td>mfo_inqs_count_month</td>\n",
       "      <td>4.591058</td>\n",
       "    </tr>\n",
       "    <tr>\n",
       "      <th>13</th>\n",
       "      <td>all_creds_count_all</td>\n",
       "      <td>4.299402</td>\n",
       "    </tr>\n",
       "    <tr>\n",
       "      <th>5</th>\n",
       "      <td>cred_max_overdue_max_ly</td>\n",
       "      <td>4.271733</td>\n",
       "    </tr>\n",
       "    <tr>\n",
       "      <th>20</th>\n",
       "      <td>work_code</td>\n",
       "      <td>4.128363</td>\n",
       "    </tr>\n",
       "    <tr>\n",
       "      <th>16</th>\n",
       "      <td>mfo_closed_count_ly</td>\n",
       "      <td>4.072940</td>\n",
       "    </tr>\n",
       "    <tr>\n",
       "      <th>8</th>\n",
       "      <td>cred_sum_cc_ly</td>\n",
       "      <td>3.895043</td>\n",
       "    </tr>\n",
       "    <tr>\n",
       "      <th>21</th>\n",
       "      <td>month_income</td>\n",
       "      <td>3.309763</td>\n",
       "    </tr>\n",
       "    <tr>\n",
       "      <th>19</th>\n",
       "      <td>all_creds_count_lm</td>\n",
       "      <td>2.468651</td>\n",
       "    </tr>\n",
       "    <tr>\n",
       "      <th>15</th>\n",
       "      <td>cred_max_overdue_max_3lm</td>\n",
       "      <td>2.265046</td>\n",
       "    </tr>\n",
       "    <tr>\n",
       "      <th>12</th>\n",
       "      <td>delay_more_sum_all</td>\n",
       "      <td>1.963970</td>\n",
       "    </tr>\n",
       "    <tr>\n",
       "      <th>14</th>\n",
       "      <td>cred_day_overdue_all_sum_all</td>\n",
       "      <td>1.567592</td>\n",
       "    </tr>\n",
       "    <tr>\n",
       "      <th>17</th>\n",
       "      <td>cred_sum_overdue_cc_all</td>\n",
       "      <td>1.358903</td>\n",
       "    </tr>\n",
       "    <tr>\n",
       "      <th>18</th>\n",
       "      <td>count_overdue_all_3lm</td>\n",
       "      <td>1.173562</td>\n",
       "    </tr>\n",
       "  </tbody>\n",
       "</table>\n",
       "</div>"
      ],
      "text/plain": [
       "                        features  feature_importances\n",
       "0                       order_id             8.175516\n",
       "22                        region             7.883965\n",
       "3       all_closed_creds_sum_all             6.727619\n",
       "10       all_closed_creds_sum_ly             6.308764\n",
       "11         mfo_cred_mean_sum_3lm             5.751153\n",
       "7              mfo_last_days_all             5.281313\n",
       "6       all_active_creds_sum_all             5.268556\n",
       "1                cred_sum_cc_all             5.149429\n",
       "4        bank_inqs_count_quarter             5.047002\n",
       "9          cred_sum_debt_all_all             5.040656\n",
       "2           mfo_inqs_count_month             4.591058\n",
       "13           all_creds_count_all             4.299402\n",
       "5        cred_max_overdue_max_ly             4.271733\n",
       "20                     work_code             4.128363\n",
       "16           mfo_closed_count_ly             4.072940\n",
       "8                 cred_sum_cc_ly             3.895043\n",
       "21                  month_income             3.309763\n",
       "19            all_creds_count_lm             2.468651\n",
       "15      cred_max_overdue_max_3lm             2.265046\n",
       "12            delay_more_sum_all             1.963970\n",
       "14  cred_day_overdue_all_sum_all             1.567592\n",
       "17       cred_sum_overdue_cc_all             1.358903\n",
       "18         count_overdue_all_3lm             1.173562"
      ]
     },
     "execution_count": 22,
     "metadata": {},
     "output_type": "execute_result"
    }
   ],
   "source": [
    "feature_importances3=best_clf_1.feature_importances_\n",
    "feature_importances_df3=pd.DataFrame({'features':list(data_approved),\n",
    "                                     'feature_importances':feature_importances3})\n",
    "feature_importances_df3=feature_importances_df3.sort_values('feature_importances',ascending=False)\n",
    "feature_importances_df3"
   ]
  },
  {
   "cell_type": "code",
   "execution_count": 23,
   "id": "f12757ee-0161-472e-b6f1-3dc9d72e7877",
   "metadata": {},
   "outputs": [],
   "source": [
    "y_pred=best_clf_1.predict_proba(data_approved)[:,1]"
   ]
  },
  {
   "cell_type": "code",
   "execution_count": 24,
   "id": "b66925b6-af65-43f8-84e9-c1e1dd53006a",
   "metadata": {},
   "outputs": [
    {
     "data": {
      "image/png": "[encoded data removed]",
      "text/plain": [
       "<Figure size 432x288 with 1 Axes>"
      ]
     },
     "metadata": {
      "needs_background": "light"
     },
     "output_type": "display_data"
    }
   ],
   "source": [
    "\n",
    "from itertools import cycle\n",
    "\n",
    "from sklearn import svm, datasets\n",
    "from sklearn.metrics import roc_curve, auc\n",
    "from sklearn.model_selection import train_test_split\n",
    "from sklearn.preprocessing import label_binarize\n",
    "from sklearn.multiclass import OneVsRestClassifier\n",
    "from scipy import interp\n",
    "from sklearn.metrics import roc_auc_score\n",
    "\n",
    "from sklearn.metrics import roc_curve, auc\n",
    "fpr, tpr, thresholds = roc_curve(target_approved, y_pred)\n",
    "roc_auc= auc(fpr, tpr)\n",
    "plt.figure()\n",
    "lw=2\n",
    "plt.plot(fpr, tpr, color='darkorange',\n",
    "         lw=lw, label='ROC curve (area = %0.2f)' % roc_auc)\n",
    "plt.plot([0, 1], [0, 1], color='navy', lw=lw, linestyle='--')\n",
    "plt.xlim([0.0, 1.0])\n",
    "plt.ylim([0.0, 1.05])\n",
    "plt.xlabel('False Positive Rate')\n",
    "plt.ylabel('True Positive Rate')\n",
    "plt.title('Receiver operating characteristic example')\n",
    "plt.legend(loc=\"lower right\")\n",
    "plt.show()"
   ]
  },
  {
   "cell_type": "code",
   "execution_count": 25,
   "id": "b7b60306-678f-476b-be7d-b68aa543551f",
   "metadata": {},
   "outputs": [],
   "source": [
    "# загружаем и обрабатываем тестовые данные\n",
    "data_test=pd.read_csv('test.csv')\n",
    "data_test=data_feats(data_test)\n",
    "\n",
    "data_test['bad']=data_test['bad'].fillna(-1)\n",
    "data_test_approved=data_test[data_test.bad!=(-1)]\n",
    "target_test_approved=data_test_approved['bad'].astype('int32')\n",
    "\n",
    "data_test_approved=data_test_approved.drop(['bad'],axis=1)\n",
    "data_test_approved=data_test_approved[data_approved.columns]\n",
    "\n",
    "data_test_approved.replace([np.inf, -np.inf], np.nan,inplace=True)\n",
    "data_test_approved=data_test_approved.fillna(-999)"
   ]
  },
  {
   "cell_type": "code",
   "execution_count": 26,
   "id": "00a07de2-9f21-433a-b896-1fd0d7db10c8",
   "metadata": {},
   "outputs": [],
   "source": [
    "import sklearn\n",
    "import sklearn.neighbors\n",
    "from sklearn.preprocessing import StandardScaler"
   ]
  },
  {
   "cell_type": "code",
   "execution_count": 27,
   "id": "ba7462bb-87a7-436f-99c0-8f5dd67cea91",
   "metadata": {},
   "outputs": [
    {
     "data": {
      "text/plain": [
       "0.66084199660842"
      ]
     },
     "execution_count": 27,
     "metadata": {},
     "output_type": "execute_result"
    }
   ],
   "source": [
    "best_clf_1.fit(data_approved,target_approved)\n",
    "sklearn.metrics.roc_auc_score(target_test_approved, best_clf_1.predict_proba(data_test_approved)[:,1])"
   ]
  },
  {
   "cell_type": "markdown",
   "id": "797aa2e5-3282-4af0-a3f3-4db135370262",
   "metadata": {},
   "source": [
    "стандартные настройки выбивают большмй скор"
   ]
  },
  {
   "cell_type": "markdown",
   "id": "30fee8f5-6b8f-43d8-83ae-dc9ef31e5eba",
   "metadata": {},
   "source": [
    "## Теперь надо разметить невыданные кредиты\n",
    "Попробуем с помощью KNN"
   ]
  },
  {
   "cell_type": "code",
   "execution_count": 28,
   "id": "43d6a2e4-d2c7-4885-83cb-5e6d8049bfb0",
   "metadata": {},
   "outputs": [],
   "source": [
    "scaler=StandardScaler()\n",
    "scaler.fit(data_approved)\n",
    "\n",
    "data_not_approved=data[data.bad==(-1)]\n",
    "target_not_approved=data_not_approved['bad']\n",
    "\n",
    "data_not_approved=data_not_approved.fillna(-999)\n",
    "\n",
    "\n",
    "data_not_approved=data_not_approved[data_approved.columns]\n",
    "\n",
    "\n",
    "scaled_not_approved=scaler.transform(data_not_approved)\n",
    "scaled_data_train_approved=scaler.transform(data_approved)"
   ]
  },
  {
   "cell_type": "code",
   "execution_count": 29,
   "id": "42c86f83-9787-407d-9b8c-43f8136e73d4",
   "metadata": {},
   "outputs": [
    {
     "data": {
      "text/plain": [
       "KNeighborsClassifier()"
      ]
     },
     "execution_count": 29,
     "metadata": {},
     "output_type": "execute_result"
    }
   ],
   "source": [
    "knn=sklearn.neighbors.KNeighborsClassifier()\n",
    "knn.fit(scaled_data_train_approved,target_approved)"
   ]
  },
  {
   "cell_type": "code",
   "execution_count": 30,
   "id": "b2bbc3df-cdd3-4236-9e27-c4b213dd0c1d",
   "metadata": {},
   "outputs": [
    {
     "data": {
      "text/plain": [
       "<AxesSubplot:>"
      ]
     },
     "execution_count": 30,
     "metadata": {},
     "output_type": "execute_result"
    },
    {
     "data": {
      "image/png": "[encoded data removed]",
      "text/plain": [
       "<Figure size 432x288 with 1 Axes>"
      ]
     },
     "metadata": {
      "needs_background": "light"
     },
     "output_type": "display_data"
    }
   ],
   "source": [
    "target_not_approved=knn.predict(scaled_not_approved)\n",
    "pd.Series(list(target_not_approved)).hist(bins=10)"
   ]
  },
  {
   "cell_type": "code",
   "execution_count": 31,
   "id": "1468197b-604e-4713-a04c-33aa06debdc0",
   "metadata": {},
   "outputs": [],
   "source": [
    "data_not_approved['bad']=target_not_approved\n",
    "data_approved['bad']=target_approved"
   ]
  },
  {
   "cell_type": "code",
   "execution_count": 32,
   "id": "fe654be2-e2c0-4c49-a465-1b26a76fe22a",
   "metadata": {},
   "outputs": [
    {
     "data": {
      "text/html": [
       "<div>\n",
       "<style scoped>\n",
       "    .dataframe tbody tr th:only-of-type {\n",
       "        vertical-align: middle;\n",
       "    }\n",
       "\n",
       "    .dataframe tbody tr th {\n",
       "        vertical-align: top;\n",
       "    }\n",
       "\n",
       "    .dataframe thead th {\n",
       "        text-align: right;\n",
       "    }\n",
       "</style>\n",
       "<table border=\"1\" class=\"dataframe\">\n",
       "  <thead>\n",
       "    <tr style=\"text-align: right;\">\n",
       "      <th></th>\n",
       "      <th>order_id</th>\n",
       "      <th>cred_sum_cc_all</th>\n",
       "      <th>mfo_inqs_count_month</th>\n",
       "      <th>all_closed_creds_sum_all</th>\n",
       "      <th>bank_inqs_count_quarter</th>\n",
       "      <th>cred_max_overdue_max_ly</th>\n",
       "      <th>all_active_creds_sum_all</th>\n",
       "      <th>mfo_last_days_all</th>\n",
       "      <th>cred_sum_cc_ly</th>\n",
       "      <th>cred_sum_debt_all_all</th>\n",
       "      <th>...</th>\n",
       "      <th>cred_day_overdue_all_sum_all</th>\n",
       "      <th>cred_max_overdue_max_3lm</th>\n",
       "      <th>mfo_closed_count_ly</th>\n",
       "      <th>cred_sum_overdue_cc_all</th>\n",
       "      <th>count_overdue_all_3lm</th>\n",
       "      <th>all_creds_count_lm</th>\n",
       "      <th>work_code</th>\n",
       "      <th>month_income</th>\n",
       "      <th>region</th>\n",
       "      <th>bad</th>\n",
       "    </tr>\n",
       "  </thead>\n",
       "  <tbody>\n",
       "    <tr>\n",
       "      <th>8</th>\n",
       "      <td>5499365</td>\n",
       "      <td>50000.0</td>\n",
       "      <td>2</td>\n",
       "      <td>58500</td>\n",
       "      <td>14</td>\n",
       "      <td>0.00</td>\n",
       "      <td>38000</td>\n",
       "      <td>23</td>\n",
       "      <td>50000.0</td>\n",
       "      <td>38000.00</td>\n",
       "      <td>...</td>\n",
       "      <td>0</td>\n",
       "      <td>0.0</td>\n",
       "      <td>5</td>\n",
       "      <td>0.0</td>\n",
       "      <td>0</td>\n",
       "      <td>2</td>\n",
       "      <td>1</td>\n",
       "      <td>35000</td>\n",
       "      <td>4</td>\n",
       "      <td>0</td>\n",
       "    </tr>\n",
       "    <tr>\n",
       "      <th>9</th>\n",
       "      <td>5499397</td>\n",
       "      <td>44000.0</td>\n",
       "      <td>1</td>\n",
       "      <td>367842</td>\n",
       "      <td>3</td>\n",
       "      <td>24000.00</td>\n",
       "      <td>74695</td>\n",
       "      <td>8</td>\n",
       "      <td>0.0</td>\n",
       "      <td>75295.00</td>\n",
       "      <td>...</td>\n",
       "      <td>0</td>\n",
       "      <td>0.0</td>\n",
       "      <td>11</td>\n",
       "      <td>0.0</td>\n",
       "      <td>0</td>\n",
       "      <td>3</td>\n",
       "      <td>2</td>\n",
       "      <td>35000</td>\n",
       "      <td>61</td>\n",
       "      <td>1</td>\n",
       "    </tr>\n",
       "    <tr>\n",
       "      <th>10</th>\n",
       "      <td>5499407</td>\n",
       "      <td>0.0</td>\n",
       "      <td>1</td>\n",
       "      <td>44500</td>\n",
       "      <td>0</td>\n",
       "      <td>0.00</td>\n",
       "      <td>5000</td>\n",
       "      <td>29</td>\n",
       "      <td>0.0</td>\n",
       "      <td>5000.00</td>\n",
       "      <td>...</td>\n",
       "      <td>0</td>\n",
       "      <td>0.0</td>\n",
       "      <td>7</td>\n",
       "      <td>0.0</td>\n",
       "      <td>0</td>\n",
       "      <td>1</td>\n",
       "      <td>4</td>\n",
       "      <td>50000</td>\n",
       "      <td>32</td>\n",
       "      <td>0</td>\n",
       "    </tr>\n",
       "    <tr>\n",
       "      <th>12</th>\n",
       "      <td>5499448</td>\n",
       "      <td>81550.0</td>\n",
       "      <td>11</td>\n",
       "      <td>231604</td>\n",
       "      <td>5</td>\n",
       "      <td>0.00</td>\n",
       "      <td>272086</td>\n",
       "      <td>16</td>\n",
       "      <td>0.0</td>\n",
       "      <td>217493.70</td>\n",
       "      <td>...</td>\n",
       "      <td>0</td>\n",
       "      <td>0.0</td>\n",
       "      <td>4</td>\n",
       "      <td>0.0</td>\n",
       "      <td>0</td>\n",
       "      <td>4</td>\n",
       "      <td>5</td>\n",
       "      <td>35000</td>\n",
       "      <td>1</td>\n",
       "      <td>1</td>\n",
       "    </tr>\n",
       "    <tr>\n",
       "      <th>17</th>\n",
       "      <td>5499715</td>\n",
       "      <td>45001.0</td>\n",
       "      <td>0</td>\n",
       "      <td>107584</td>\n",
       "      <td>0</td>\n",
       "      <td>5975.24</td>\n",
       "      <td>267484</td>\n",
       "      <td>9999</td>\n",
       "      <td>1.0</td>\n",
       "      <td>244351.87</td>\n",
       "      <td>...</td>\n",
       "      <td>0</td>\n",
       "      <td>0.0</td>\n",
       "      <td>0</td>\n",
       "      <td>0.0</td>\n",
       "      <td>0</td>\n",
       "      <td>0</td>\n",
       "      <td>5</td>\n",
       "      <td>35000</td>\n",
       "      <td>78</td>\n",
       "      <td>0</td>\n",
       "    </tr>\n",
       "  </tbody>\n",
       "</table>\n",
       "<p>5 rows × 24 columns</p>\n",
       "</div>"
      ],
      "text/plain": [
       "    order_id  cred_sum_cc_all  mfo_inqs_count_month  all_closed_creds_sum_all  \\\n",
       "8    5499365          50000.0                     2                     58500   \n",
       "9    5499397          44000.0                     1                    367842   \n",
       "10   5499407              0.0                     1                     44500   \n",
       "12   5499448          81550.0                    11                    231604   \n",
       "17   5499715          45001.0                     0                    107584   \n",
       "\n",
       "    bank_inqs_count_quarter  cred_max_overdue_max_ly  \\\n",
       "8                        14                     0.00   \n",
       "9                         3                 24000.00   \n",
       "10                        0                     0.00   \n",
       "12                        5                     0.00   \n",
       "17                        0                  5975.24   \n",
       "\n",
       "    all_active_creds_sum_all  mfo_last_days_all  cred_sum_cc_ly  \\\n",
       "8                      38000                 23         50000.0   \n",
       "9                      74695                  8             0.0   \n",
       "10                      5000                 29             0.0   \n",
       "12                    272086                 16             0.0   \n",
       "17                    267484               9999             1.0   \n",
       "\n",
       "    cred_sum_debt_all_all  ...  cred_day_overdue_all_sum_all  \\\n",
       "8                38000.00  ...                             0   \n",
       "9                75295.00  ...                             0   \n",
       "10                5000.00  ...                             0   \n",
       "12              217493.70  ...                             0   \n",
       "17              244351.87  ...                             0   \n",
       "\n",
       "    cred_max_overdue_max_3lm  mfo_closed_count_ly  cred_sum_overdue_cc_all  \\\n",
       "8                        0.0                    5                      0.0   \n",
       "9                        0.0                   11                      0.0   \n",
       "10                       0.0                    7                      0.0   \n",
       "12                       0.0                    4                      0.0   \n",
       "17                       0.0                    0                      0.0   \n",
       "\n",
       "    count_overdue_all_3lm  all_creds_count_lm  work_code  month_income  \\\n",
       "8                       0                   2          1         35000   \n",
       "9                       0                   3          2         35000   \n",
       "10                      0                   1          4         50000   \n",
       "12                      0                   4          5         35000   \n",
       "17                      0                   0          5         35000   \n",
       "\n",
       "    region  bad  \n",
       "8        4    0  \n",
       "9       61    1  \n",
       "10      32    0  \n",
       "12       1    1  \n",
       "17      78    0  \n",
       "\n",
       "[5 rows x 24 columns]"
      ]
     },
     "execution_count": 32,
     "metadata": {},
     "output_type": "execute_result"
    }
   ],
   "source": [
    "data_approved.head()"
   ]
  },
  {
   "cell_type": "code",
   "execution_count": 33,
   "id": "466859a4-0100-4430-95b6-e31ccb37d00a",
   "metadata": {},
   "outputs": [],
   "source": [
    "full_data=pd.concat([data_approved,data_not_approved])\n",
    "full_data_target=full_data['bad']\n",
    "\n",
    "full_data=full_data.drop(['bad'],axis=1)\n",
    "#full_data=full_data.sort_values(by='order_id')"
   ]
  },
  {
   "cell_type": "raw",
   "id": "115da7e0-86b1-4473-b33e-aa72ea03463d",
   "metadata": {},
   "source": [
    "%%time\n",
    "ctb_clf=ctb.CatBoostClassifier(verbose=0)\n",
    "param_grid = {\n",
    "    'iterations' : [1000,2000],\n",
    "    \"learning_rate\": [0.003],\n",
    "    'depth':[3,4]}\n",
    "\n",
    "tscv=TimeSeriesSplit(n_splits=2)\n",
    "cat_grid_cv=GridSearchCV(ctb_clf,param_grid,cv=tscv,n_jobs=1,verbose=3,scoring='roc_auc')\n",
    "\n",
    "\n",
    "cat_grid_cv.fit(full_data,full_data_target)\n",
    "print(cat_grid_cv.best_params_)\n",
    "\n",
    "best_clf_2=cat_grid_cv.best_estimator_"
   ]
  },
  {
   "cell_type": "code",
   "execution_count": 34,
   "id": "aded4bf8-44d8-4997-8bdf-21c77f3b9a3c",
   "metadata": {},
   "outputs": [
    {
     "ename": "NameError",
     "evalue": "name 'best_clf_2' is not defined",
     "output_type": "error",
     "traceback": [
      "\u001b[1;31m---------------------------------------------------------------------------\u001b[0m",
      "\u001b[1;31mNameError\u001b[0m                                 Traceback (most recent call last)",
      "\u001b[1;32m~\\AppData\\Local\\Temp/ipykernel_8272/4045208988.py\u001b[0m in \u001b[0;36m<module>\u001b[1;34m\u001b[0m\n\u001b[1;32m----> 1\u001b[1;33m \u001b[0mbest_clf_2\u001b[0m\u001b[1;33m.\u001b[0m\u001b[0mfit\u001b[0m\u001b[1;33m(\u001b[0m\u001b[0mfull_data\u001b[0m\u001b[1;33m,\u001b[0m\u001b[0mfull_data_target\u001b[0m\u001b[1;33m)\u001b[0m\u001b[1;33m\u001b[0m\u001b[1;33m\u001b[0m\u001b[0m\n\u001b[0m\u001b[0;32m      2\u001b[0m \u001b[0msklearn\u001b[0m\u001b[1;33m.\u001b[0m\u001b[0mmetrics\u001b[0m\u001b[1;33m.\u001b[0m\u001b[0mroc_auc_score\u001b[0m\u001b[1;33m(\u001b[0m\u001b[0mtarget_test_approved\u001b[0m\u001b[1;33m,\u001b[0m \u001b[0mbest_clf_2\u001b[0m\u001b[1;33m.\u001b[0m\u001b[0mpredict_proba\u001b[0m\u001b[1;33m(\u001b[0m\u001b[0mdata_test_approved\u001b[0m\u001b[1;33m)\u001b[0m\u001b[1;33m[\u001b[0m\u001b[1;33m:\u001b[0m\u001b[1;33m,\u001b[0m\u001b[1;36m1\u001b[0m\u001b[1;33m]\u001b[0m\u001b[1;33m)\u001b[0m\u001b[1;33m\u001b[0m\u001b[1;33m\u001b[0m\u001b[0m\n",
      "\u001b[1;31mNameError\u001b[0m: name 'best_clf_2' is not defined"
     ]
    }
   ],
   "source": [
    "best_clf_2.fit(full_data,full_data_target)\n",
    "sklearn.metrics.roc_auc_score(target_test_approved, best_clf_2.predict_proba(data_test_approved)[:,1])"
   ]
  },
  {
   "cell_type": "code",
   "execution_count": 35,
   "id": "12f18832-45be-42da-b2dc-eee5ceb3e1e0",
   "metadata": {},
   "outputs": [
    {
     "data": {
      "text/plain": [
       "0.6100420261004202"
      ]
     },
     "execution_count": 35,
     "metadata": {},
     "output_type": "execute_result"
    }
   ],
   "source": [
    "ctb_clf_2=ctb.CatBoostClassifier(verbose=0)\n",
    "ctb_clf_2.fit(full_data,full_data_target)\n",
    "sklearn.metrics.roc_auc_score(target_test_approved, ctb_clf_2.predict_proba(data_test_approved)[:,1])"
   ]
  },
  {
   "cell_type": "markdown",
   "id": "24990683-6420-4550-90e8-0643431efcf6",
   "metadata": {},
   "source": [
    "## Попробуем разметить через catboost"
   ]
  },
  {
   "cell_type": "code",
   "execution_count": 36,
   "id": "c8e2524a-6413-4a1c-bedd-1c53b998e20a",
   "metadata": {},
   "outputs": [],
   "source": [
    "data_not_approved=data[data.bad==(-1)]\n",
    "data_not_approved=data_not_approved.fillna(-999)\n",
    "data_not_approved=data_not_approved[data_approved.columns]\n",
    "y_predicted_prob=best_clf_1.predict_proba(data_not_approved)[:,1]"
   ]
  },
  {
   "cell_type": "code",
   "execution_count": 37,
   "id": "ea9e5a75-3ce5-4114-89f2-9a2bba6d8ba1",
   "metadata": {},
   "outputs": [
    {
     "data": {
      "text/plain": [
       "<AxesSubplot:>"
      ]
     },
     "execution_count": 37,
     "metadata": {},
     "output_type": "execute_result"
    },
    {
     "data": {
      "image/png": "[encoded data removed]",
      "text/plain": [
       "<Figure size 432x288 with 1 Axes>"
      ]
     },
     "metadata": {
      "needs_background": "light"
     },
     "output_type": "display_data"
    }
   ],
   "source": [
    "pd.Series(y_predicted_prob).hist(bins=200)"
   ]
  },
  {
   "cell_type": "code",
   "execution_count": 38,
   "id": "641adca7-07ab-4c57-959d-eb2a64b86e47",
   "metadata": {},
   "outputs": [
    {
     "data": {
      "text/plain": [
       "<AxesSubplot:>"
      ]
     },
     "execution_count": 38,
     "metadata": {},
     "output_type": "execute_result"
    },
    {
     "data": {
      "image/png": "[encoded data removed]",
      "text/plain": [
       "<Figure size 432x288 with 1 Axes>"
      ]
     },
     "metadata": {
      "needs_background": "light"
     },
     "output_type": "display_data"
    }
   ],
   "source": [
    "target_not_approved=np.where(y_predicted_prob>np.mean(y_predicted_prob),1,0) #threshold для отнесения к классу невозвращенных\n",
    "#кредитов выбирается медианное значение вероятности возврата\n",
    "\n",
    "\n",
    "pd.Series(target_not_approved).hist()"
   ]
  },
  {
   "cell_type": "code",
   "execution_count": 39,
   "id": "0a6acb8e-cb3f-44ce-bba9-3007919a19d5",
   "metadata": {},
   "outputs": [],
   "source": [
    "data_not_approved['bad']=target_not_approved\n",
    "data_approved['bad']=target_approved\n",
    "\n",
    "full_data=pd.concat([data_approved,data_not_approved])\n",
    "\n",
    "full_target=full_data['bad']\n",
    "full_data=full_data.drop(['bad'],axis=1)\n",
    "\n",
    "#full_data=full_data.sort_values(by='order_id')"
   ]
  },
  {
   "cell_type": "code",
   "execution_count": 40,
   "id": "bb807ee9-34e4-4062-9a81-db50d694d952",
   "metadata": {},
   "outputs": [],
   "source": [
    "#full_data=full_data.drop(['order_id'],axis=1)"
   ]
  },
  {
   "cell_type": "raw",
   "id": "f3d191a1-5873-4c4b-8365-0883f6ed2837",
   "metadata": {},
   "source": [
    "full_data=full_data.drop(['mfo_cred_mean_sum_3lm','all_creds_count_lm','month_income',\n",
    "'delay_more_sum_all',\n",
    "'cred_sum_debt_all_all',\n",
    "'cred_sum_cc_ly',\n",
    "'cred_sum_overdue_cc_all',\n",
    "'cred_sum_cc_all',\n",
    "'bank_inqs_count_quarter'],axis=1)\n",
    "\n",
    "data_test_approved=data_test_approved.drop(['mfo_cred_mean_sum_3lm','all_creds_count_lm','month_income',\n",
    "'delay_more_sum_all',\n",
    "'cred_sum_debt_all_all',\n",
    "'cred_sum_cc_ly',\n",
    "'cred_sum_overdue_cc_all',\n",
    "'cred_sum_cc_all',\n",
    "'bank_inqs_count_quarter'],axis=1)"
   ]
  },
  {
   "cell_type": "code",
   "execution_count": 41,
   "id": "73cc33d7-9b13-420e-afe6-e683405954d3",
   "metadata": {},
   "outputs": [
    {
     "data": {
      "text/html": [
       "<div>\n",
       "<style scoped>\n",
       "    .dataframe tbody tr th:only-of-type {\n",
       "        vertical-align: middle;\n",
       "    }\n",
       "\n",
       "    .dataframe tbody tr th {\n",
       "        vertical-align: top;\n",
       "    }\n",
       "\n",
       "    .dataframe thead th {\n",
       "        text-align: right;\n",
       "    }\n",
       "</style>\n",
       "<table border=\"1\" class=\"dataframe\">\n",
       "  <thead>\n",
       "    <tr style=\"text-align: right;\">\n",
       "      <th></th>\n",
       "      <th>order_id</th>\n",
       "      <th>cred_sum_cc_all</th>\n",
       "      <th>mfo_inqs_count_month</th>\n",
       "      <th>all_closed_creds_sum_all</th>\n",
       "      <th>bank_inqs_count_quarter</th>\n",
       "      <th>cred_max_overdue_max_ly</th>\n",
       "      <th>all_active_creds_sum_all</th>\n",
       "      <th>mfo_last_days_all</th>\n",
       "      <th>cred_sum_cc_ly</th>\n",
       "      <th>cred_sum_debt_all_all</th>\n",
       "      <th>...</th>\n",
       "      <th>all_creds_count_all</th>\n",
       "      <th>cred_day_overdue_all_sum_all</th>\n",
       "      <th>cred_max_overdue_max_3lm</th>\n",
       "      <th>mfo_closed_count_ly</th>\n",
       "      <th>cred_sum_overdue_cc_all</th>\n",
       "      <th>count_overdue_all_3lm</th>\n",
       "      <th>all_creds_count_lm</th>\n",
       "      <th>work_code</th>\n",
       "      <th>month_income</th>\n",
       "      <th>region</th>\n",
       "    </tr>\n",
       "  </thead>\n",
       "  <tbody>\n",
       "    <tr>\n",
       "      <th>8</th>\n",
       "      <td>5499365</td>\n",
       "      <td>50000.0</td>\n",
       "      <td>2</td>\n",
       "      <td>58500</td>\n",
       "      <td>14</td>\n",
       "      <td>0.00</td>\n",
       "      <td>38000</td>\n",
       "      <td>23</td>\n",
       "      <td>50000.0</td>\n",
       "      <td>38000.00</td>\n",
       "      <td>...</td>\n",
       "      <td>9</td>\n",
       "      <td>0</td>\n",
       "      <td>0.0</td>\n",
       "      <td>5</td>\n",
       "      <td>0.0</td>\n",
       "      <td>0</td>\n",
       "      <td>2</td>\n",
       "      <td>1</td>\n",
       "      <td>35000</td>\n",
       "      <td>4</td>\n",
       "    </tr>\n",
       "    <tr>\n",
       "      <th>9</th>\n",
       "      <td>5499397</td>\n",
       "      <td>44000.0</td>\n",
       "      <td>1</td>\n",
       "      <td>367842</td>\n",
       "      <td>3</td>\n",
       "      <td>24000.00</td>\n",
       "      <td>74695</td>\n",
       "      <td>8</td>\n",
       "      <td>0.0</td>\n",
       "      <td>75295.00</td>\n",
       "      <td>...</td>\n",
       "      <td>32</td>\n",
       "      <td>0</td>\n",
       "      <td>0.0</td>\n",
       "      <td>11</td>\n",
       "      <td>0.0</td>\n",
       "      <td>0</td>\n",
       "      <td>3</td>\n",
       "      <td>2</td>\n",
       "      <td>35000</td>\n",
       "      <td>61</td>\n",
       "    </tr>\n",
       "    <tr>\n",
       "      <th>10</th>\n",
       "      <td>5499407</td>\n",
       "      <td>0.0</td>\n",
       "      <td>1</td>\n",
       "      <td>44500</td>\n",
       "      <td>0</td>\n",
       "      <td>0.00</td>\n",
       "      <td>5000</td>\n",
       "      <td>29</td>\n",
       "      <td>0.0</td>\n",
       "      <td>5000.00</td>\n",
       "      <td>...</td>\n",
       "      <td>8</td>\n",
       "      <td>0</td>\n",
       "      <td>0.0</td>\n",
       "      <td>7</td>\n",
       "      <td>0.0</td>\n",
       "      <td>0</td>\n",
       "      <td>1</td>\n",
       "      <td>4</td>\n",
       "      <td>50000</td>\n",
       "      <td>32</td>\n",
       "    </tr>\n",
       "    <tr>\n",
       "      <th>12</th>\n",
       "      <td>5499448</td>\n",
       "      <td>81550.0</td>\n",
       "      <td>11</td>\n",
       "      <td>231604</td>\n",
       "      <td>5</td>\n",
       "      <td>0.00</td>\n",
       "      <td>272086</td>\n",
       "      <td>16</td>\n",
       "      <td>0.0</td>\n",
       "      <td>217493.70</td>\n",
       "      <td>...</td>\n",
       "      <td>23</td>\n",
       "      <td>0</td>\n",
       "      <td>0.0</td>\n",
       "      <td>4</td>\n",
       "      <td>0.0</td>\n",
       "      <td>0</td>\n",
       "      <td>4</td>\n",
       "      <td>5</td>\n",
       "      <td>35000</td>\n",
       "      <td>1</td>\n",
       "    </tr>\n",
       "    <tr>\n",
       "      <th>17</th>\n",
       "      <td>5499715</td>\n",
       "      <td>45001.0</td>\n",
       "      <td>0</td>\n",
       "      <td>107584</td>\n",
       "      <td>0</td>\n",
       "      <td>5975.24</td>\n",
       "      <td>267484</td>\n",
       "      <td>9999</td>\n",
       "      <td>1.0</td>\n",
       "      <td>244351.87</td>\n",
       "      <td>...</td>\n",
       "      <td>8</td>\n",
       "      <td>0</td>\n",
       "      <td>0.0</td>\n",
       "      <td>0</td>\n",
       "      <td>0.0</td>\n",
       "      <td>0</td>\n",
       "      <td>0</td>\n",
       "      <td>5</td>\n",
       "      <td>35000</td>\n",
       "      <td>78</td>\n",
       "    </tr>\n",
       "  </tbody>\n",
       "</table>\n",
       "<p>5 rows × 23 columns</p>\n",
       "</div>"
      ],
      "text/plain": [
       "    order_id  cred_sum_cc_all  mfo_inqs_count_month  all_closed_creds_sum_all  \\\n",
       "8    5499365          50000.0                     2                     58500   \n",
       "9    5499397          44000.0                     1                    367842   \n",
       "10   5499407              0.0                     1                     44500   \n",
       "12   5499448          81550.0                    11                    231604   \n",
       "17   5499715          45001.0                     0                    107584   \n",
       "\n",
       "    bank_inqs_count_quarter  cred_max_overdue_max_ly  \\\n",
       "8                        14                     0.00   \n",
       "9                         3                 24000.00   \n",
       "10                        0                     0.00   \n",
       "12                        5                     0.00   \n",
       "17                        0                  5975.24   \n",
       "\n",
       "    all_active_creds_sum_all  mfo_last_days_all  cred_sum_cc_ly  \\\n",
       "8                      38000                 23         50000.0   \n",
       "9                      74695                  8             0.0   \n",
       "10                      5000                 29             0.0   \n",
       "12                    272086                 16             0.0   \n",
       "17                    267484               9999             1.0   \n",
       "\n",
       "    cred_sum_debt_all_all  ...  all_creds_count_all  \\\n",
       "8                38000.00  ...                    9   \n",
       "9                75295.00  ...                   32   \n",
       "10                5000.00  ...                    8   \n",
       "12              217493.70  ...                   23   \n",
       "17              244351.87  ...                    8   \n",
       "\n",
       "    cred_day_overdue_all_sum_all  cred_max_overdue_max_3lm  \\\n",
       "8                              0                       0.0   \n",
       "9                              0                       0.0   \n",
       "10                             0                       0.0   \n",
       "12                             0                       0.0   \n",
       "17                             0                       0.0   \n",
       "\n",
       "    mfo_closed_count_ly  cred_sum_overdue_cc_all  count_overdue_all_3lm  \\\n",
       "8                     5                      0.0                      0   \n",
       "9                    11                      0.0                      0   \n",
       "10                    7                      0.0                      0   \n",
       "12                    4                      0.0                      0   \n",
       "17                    0                      0.0                      0   \n",
       "\n",
       "    all_creds_count_lm  work_code  month_income  region  \n",
       "8                    2          1         35000       4  \n",
       "9                    3          2         35000      61  \n",
       "10                   1          4         50000      32  \n",
       "12                   4          5         35000       1  \n",
       "17                   0          5         35000      78  \n",
       "\n",
       "[5 rows x 23 columns]"
      ]
     },
     "execution_count": 41,
     "metadata": {},
     "output_type": "execute_result"
    }
   ],
   "source": [
    "full_data.head()"
   ]
  },
  {
   "cell_type": "code",
   "execution_count": 42,
   "id": "e0b70a23-9fb4-4d71-bc09-ad6dc4b449ff",
   "metadata": {},
   "outputs": [
    {
     "name": "stdout",
     "output_type": "stream",
     "text": [
      "Fitting 3 folds for each of 1 candidates, totalling 3 fits\n",
      "[CV 1/3] END depth=4, iterations=2000, learning_rate=0.004;, score=0.854 total time=   7.2s\n",
      "[CV 2/3] END depth=4, iterations=2000, learning_rate=0.004;, score=0.941 total time=  11.3s\n",
      "[CV 3/3] END depth=4, iterations=2000, learning_rate=0.004;, score=0.932 total time=  13.2s\n",
      "{'depth': 4, 'iterations': 2000, 'learning_rate': 0.004}\n",
      "Wall time: 45.8 s\n"
     ]
    }
   ],
   "source": [
    "%%time\n",
    "ctb_clf=ctb.CatBoostClassifier(verbose=0)\n",
    "param_grid = {\n",
    "    'iterations' : [2000],\n",
    "    \"learning_rate\": [0.004],\n",
    "    'depth':[4]}\n",
    "\n",
    "tscv=TimeSeriesSplit(n_splits=3)\n",
    "cat_grid_cv=GridSearchCV(ctb_clf,param_grid,cv=tscv,n_jobs=1,verbose=3,scoring='roc_auc')\n",
    "\n",
    "\n",
    "cat_grid_cv.fit(full_data,full_target)\n",
    "print(cat_grid_cv.best_params_)\n",
    "\n",
    "best_clf_3=cat_grid_cv.best_estimator_"
   ]
  },
  {
   "cell_type": "code",
   "execution_count": 43,
   "id": "e868d040-41a5-408f-aa0d-40ff91df2a0f",
   "metadata": {},
   "outputs": [
    {
     "data": {
      "text/html": [
       "<div>\n",
       "<style scoped>\n",
       "    .dataframe tbody tr th:only-of-type {\n",
       "        vertical-align: middle;\n",
       "    }\n",
       "\n",
       "    .dataframe tbody tr th {\n",
       "        vertical-align: top;\n",
       "    }\n",
       "\n",
       "    .dataframe thead th {\n",
       "        text-align: right;\n",
       "    }\n",
       "</style>\n",
       "<table border=\"1\" class=\"dataframe\">\n",
       "  <thead>\n",
       "    <tr style=\"text-align: right;\">\n",
       "      <th></th>\n",
       "      <th>features</th>\n",
       "      <th>feature_importances</th>\n",
       "    </tr>\n",
       "  </thead>\n",
       "  <tbody>\n",
       "    <tr>\n",
       "      <th>14</th>\n",
       "      <td>cred_day_overdue_all_sum_all</td>\n",
       "      <td>18.301734</td>\n",
       "    </tr>\n",
       "    <tr>\n",
       "      <th>3</th>\n",
       "      <td>all_closed_creds_sum_all</td>\n",
       "      <td>15.951970</td>\n",
       "    </tr>\n",
       "    <tr>\n",
       "      <th>20</th>\n",
       "      <td>work_code</td>\n",
       "      <td>12.156779</td>\n",
       "    </tr>\n",
       "    <tr>\n",
       "      <th>18</th>\n",
       "      <td>count_overdue_all_3lm</td>\n",
       "      <td>6.917431</td>\n",
       "    </tr>\n",
       "    <tr>\n",
       "      <th>5</th>\n",
       "      <td>cred_max_overdue_max_ly</td>\n",
       "      <td>6.239485</td>\n",
       "    </tr>\n",
       "    <tr>\n",
       "      <th>10</th>\n",
       "      <td>all_closed_creds_sum_ly</td>\n",
       "      <td>4.635603</td>\n",
       "    </tr>\n",
       "    <tr>\n",
       "      <th>0</th>\n",
       "      <td>order_id</td>\n",
       "      <td>4.471017</td>\n",
       "    </tr>\n",
       "    <tr>\n",
       "      <th>6</th>\n",
       "      <td>all_active_creds_sum_all</td>\n",
       "      <td>3.903154</td>\n",
       "    </tr>\n",
       "    <tr>\n",
       "      <th>7</th>\n",
       "      <td>mfo_last_days_all</td>\n",
       "      <td>3.850770</td>\n",
       "    </tr>\n",
       "    <tr>\n",
       "      <th>4</th>\n",
       "      <td>bank_inqs_count_quarter</td>\n",
       "      <td>3.434942</td>\n",
       "    </tr>\n",
       "    <tr>\n",
       "      <th>2</th>\n",
       "      <td>mfo_inqs_count_month</td>\n",
       "      <td>3.168180</td>\n",
       "    </tr>\n",
       "    <tr>\n",
       "      <th>16</th>\n",
       "      <td>mfo_closed_count_ly</td>\n",
       "      <td>3.159244</td>\n",
       "    </tr>\n",
       "    <tr>\n",
       "      <th>15</th>\n",
       "      <td>cred_max_overdue_max_3lm</td>\n",
       "      <td>2.580534</td>\n",
       "    </tr>\n",
       "    <tr>\n",
       "      <th>22</th>\n",
       "      <td>region</td>\n",
       "      <td>2.556852</td>\n",
       "    </tr>\n",
       "    <tr>\n",
       "      <th>21</th>\n",
       "      <td>month_income</td>\n",
       "      <td>2.119330</td>\n",
       "    </tr>\n",
       "    <tr>\n",
       "      <th>13</th>\n",
       "      <td>all_creds_count_all</td>\n",
       "      <td>2.088234</td>\n",
       "    </tr>\n",
       "    <tr>\n",
       "      <th>1</th>\n",
       "      <td>cred_sum_cc_all</td>\n",
       "      <td>1.355769</td>\n",
       "    </tr>\n",
       "    <tr>\n",
       "      <th>19</th>\n",
       "      <td>all_creds_count_lm</td>\n",
       "      <td>1.048808</td>\n",
       "    </tr>\n",
       "    <tr>\n",
       "      <th>17</th>\n",
       "      <td>cred_sum_overdue_cc_all</td>\n",
       "      <td>0.901696</td>\n",
       "    </tr>\n",
       "    <tr>\n",
       "      <th>11</th>\n",
       "      <td>mfo_cred_mean_sum_3lm</td>\n",
       "      <td>0.720415</td>\n",
       "    </tr>\n",
       "    <tr>\n",
       "      <th>9</th>\n",
       "      <td>cred_sum_debt_all_all</td>\n",
       "      <td>0.384694</td>\n",
       "    </tr>\n",
       "    <tr>\n",
       "      <th>8</th>\n",
       "      <td>cred_sum_cc_ly</td>\n",
       "      <td>0.038514</td>\n",
       "    </tr>\n",
       "    <tr>\n",
       "      <th>12</th>\n",
       "      <td>delay_more_sum_all</td>\n",
       "      <td>0.014843</td>\n",
       "    </tr>\n",
       "  </tbody>\n",
       "</table>\n",
       "</div>"
      ],
      "text/plain": [
       "                        features  feature_importances\n",
       "14  cred_day_overdue_all_sum_all            18.301734\n",
       "3       all_closed_creds_sum_all            15.951970\n",
       "20                     work_code            12.156779\n",
       "18         count_overdue_all_3lm             6.917431\n",
       "5        cred_max_overdue_max_ly             6.239485\n",
       "10       all_closed_creds_sum_ly             4.635603\n",
       "0                       order_id             4.471017\n",
       "6       all_active_creds_sum_all             3.903154\n",
       "7              mfo_last_days_all             3.850770\n",
       "4        bank_inqs_count_quarter             3.434942\n",
       "2           mfo_inqs_count_month             3.168180\n",
       "16           mfo_closed_count_ly             3.159244\n",
       "15      cred_max_overdue_max_3lm             2.580534\n",
       "22                        region             2.556852\n",
       "21                  month_income             2.119330\n",
       "13           all_creds_count_all             2.088234\n",
       "1                cred_sum_cc_all             1.355769\n",
       "19            all_creds_count_lm             1.048808\n",
       "17       cred_sum_overdue_cc_all             0.901696\n",
       "11         mfo_cred_mean_sum_3lm             0.720415\n",
       "9          cred_sum_debt_all_all             0.384694\n",
       "8                 cred_sum_cc_ly             0.038514\n",
       "12            delay_more_sum_all             0.014843"
      ]
     },
     "execution_count": 43,
     "metadata": {},
     "output_type": "execute_result"
    }
   ],
   "source": [
    "feature_importances3=best_clf_3.feature_importances_\n",
    "feature_importances_df3=pd.DataFrame({'features':list(full_data),\n",
    "                                     'feature_importances':feature_importances3})\n",
    "feature_importances_df3=feature_importances_df3.sort_values('feature_importances',ascending=False)\n",
    "feature_importances_df3"
   ]
  },
  {
   "cell_type": "code",
   "execution_count": 44,
   "id": "95da039d-a89d-46af-9189-5aed7256a12b",
   "metadata": {},
   "outputs": [
    {
     "data": {
      "text/plain": [
       "0.6465383764653836"
      ]
     },
     "execution_count": 44,
     "metadata": {},
     "output_type": "execute_result"
    }
   ],
   "source": [
    "best_clf_3.fit(full_data,full_target)\n",
    "sklearn.metrics.roc_auc_score(target_test_approved, best_clf_3.predict_proba(data_test_approved)[:,1])"
   ]
  },
  {
   "cell_type": "markdown",
   "id": "e3b2d03d-9cb3-4f23-844a-4a3258c8b5c7",
   "metadata": {
    "tags": []
   },
   "source": [
    "## Через Catboost с частичным привлечением учителя"
   ]
  },
  {
   "cell_type": "markdown",
   "id": "a2750434-7e06-4733-9431-7553ab671de0",
   "metadata": {},
   "source": [
    "сделаем следующее: предскажем с помощью первой модели вероятность отнесения к классу 1, и сохраним те объекты, в которых модель уверена больше всего, для этого мы с помощью 5 и 95 процентилей отбираем вероятности из массива вроятностей всех неодобренных кредитов"
   ]
  },
  {
   "cell_type": "code",
   "execution_count": 45,
   "id": "72058665-fcf4-444a-b0eb-58d3849c698b",
   "metadata": {},
   "outputs": [],
   "source": [
    "pd.options.mode.chained_assignment = None  # default='warn'"
   ]
  },
  {
   "cell_type": "code",
   "execution_count": 46,
   "id": "50fcd224-3bfb-4b90-a33f-a1a9db060906",
   "metadata": {},
   "outputs": [],
   "source": [
    "data_not_approved=data[data.bad==(-1)]\n",
    "data_not_approved=data_not_approved.fillna(-999)\n",
    "data_not_approved=data_not_approved[data_approved.columns]"
   ]
  },
  {
   "cell_type": "code",
   "execution_count": 47,
   "id": "ed7883bb-5333-4ea7-8a57-e5a52440711d",
   "metadata": {},
   "outputs": [
    {
     "data": {
      "text/plain": [
       "<catboost.core.CatBoostClassifier at 0x2050dd98400>"
      ]
     },
     "execution_count": 47,
     "metadata": {},
     "output_type": "execute_result"
    }
   ],
   "source": [
    "#data_approved=data_approved.drop(['bad'],axis=1)\n",
    "\n",
    "best_clf_1=ctb.CatBoostClassifier(verbose=0)\n",
    "best_clf_1.fit(data_approved,target_approved)\n",
    "#sklearn.metrics.roc_auc_score(target_approved, best_clf_1.predict_proba(data_approved)[:,1])"
   ]
  },
  {
   "cell_type": "code",
   "execution_count": 48,
   "id": "2551e27c-6a09-4b78-a7d5-f6fc41a6dde8",
   "metadata": {},
   "outputs": [],
   "source": [
    "score=[]"
   ]
  },
  {
   "cell_type": "code",
   "execution_count": 49,
   "id": "5759e54d-134d-43ca-b97e-4b1c1c571ece",
   "metadata": {
    "tags": []
   },
   "outputs": [],
   "source": [
    "for i in range(10):\n",
    "    y_predicted_prob=best_clf_1.predict_proba(data_not_approved)[:,1]\n",
    "\n",
    "    percent_5=np.percentile(y_predicted_prob, 1)\n",
    "    percent_95=np.percentile(y_predicted_prob, 99)\n",
    "\n",
    "    index_percent_5=[]\n",
    "    index_percent_95=[]\n",
    "\n",
    "    for i,prob in enumerate(y_predicted_prob):\n",
    "        if prob<percent_5:\n",
    "            index_percent_5.append(i)\n",
    "        if prob>percent_95:\n",
    "            index_percent_95.append(i)\n",
    "        \n",
    "        \n",
    "    data_not_approved['prob']=y_predicted_prob\n",
    "    data_not_approved['bad']=np.nan\n",
    "\n",
    "\n",
    "    data_not_approved_1=data_not_approved[data_not_approved['prob']<percent_5]\n",
    "    data_not_approved_2=data_not_approved[data_not_approved['prob']>percent_95]\n",
    "\n",
    "    data_not_approved_1['bad']=0\n",
    "    data_not_approved_1=data_not_approved_1.drop(['prob'],axis=1)\n",
    "\n",
    "    data_not_approved_2['bad']=1\n",
    "    data_not_approved_2=data_not_approved_2.drop(['prob'],axis=1)\n",
    "\n",
    "    target_not_approved_conf=pd.concat([data_not_approved_1,data_not_approved_2])\n",
    "\n",
    "\n",
    "    data_approved['bad']=target_approved\n",
    "\n",
    "    full_data=pd.concat([data_approved,target_not_approved_conf])\n",
    "\n",
    "    full_target=full_data['bad']\n",
    "    full_data=full_data.drop(['bad'],axis=1)\n",
    "\n",
    "\n",
    "    best_clf_1=ctb.CatBoostClassifier(verbose=0)\n",
    "    best_clf_1.fit(full_data,full_target)\n",
    "    \n",
    "    data_not_approved.drop(list(target_not_approved_conf.index), inplace=True)\n",
    "    \n",
    "    #print(len(target_not_approved_conf))\n",
    "\n",
    "    #print(sklearn.metrics.roc_auc_score(target_test_approved, best_clf_1.predict_proba(data_test_approved)[:,1]))\n",
    "    \n",
    "    score.append(sklearn.metrics.roc_auc_score(target_test_approved, best_clf_1.predict_proba(data_test_approved)[:,1]))"
   ]
  },
  {
   "cell_type": "code",
   "execution_count": 50,
   "id": "8e81d647-3a54-4817-9c2f-c07bc27f246c",
   "metadata": {},
   "outputs": [
    {
     "data": {
      "text/plain": [
       "[<matplotlib.lines.Line2D at 0x2050a599e50>]"
      ]
     },
     "execution_count": 50,
     "metadata": {},
     "output_type": "execute_result"
    },
    {
     "data": {
      "image/png": "[encoded data removed]",
      "text/plain": [
       "<Figure size 432x288 with 1 Axes>"
      ]
     },
     "metadata": {
      "needs_background": "light"
     },
     "output_type": "display_data"
    }
   ],
   "source": [
    "plt.plot(np.arange(0,10),score)"
   ]
  },
  {
   "cell_type": "code",
   "execution_count": null,
   "id": "d15a14f5-4fd2-42be-9418-52467b0e6f27",
   "metadata": {},
   "outputs": [],
   "source": []
  },
  {
   "cell_type": "code",
   "execution_count": null,
   "id": "73512bfe-8d5c-4085-8847-e474da5b726b",
   "metadata": {},
   "outputs": [],
   "source": []
  }
 ],
 "metadata": {
  "kernelspec": {
   "display_name": "Python 3 (ipykernel)",
   "language": "python",
   "name": "python3"
  },
  "language_info": {
   "codemirror_mode": {
    "name": "ipython",
    "version": 3
   },
   "file_extension": ".py",
   "mimetype": "text/x-python",
   "name": "python",
   "nbconvert_exporter": "python",
   "pygments_lexer": "ipython3",
   "version": "3.8.12"
  }
 },
 "nbformat": 4,
 "nbformat_minor": 5
}
